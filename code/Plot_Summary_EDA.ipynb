{
 "cells": [
  {
   "cell_type": "code",
   "execution_count": 24,
   "metadata": {
    "collapsed": false
   },
   "outputs": [],
   "source": [
    "import json\n",
    "import numpy as np\n",
    "import re\n",
    "from collections import Counter\n",
    "import matplotlib.pyplot as plt\n",
    "import seaborn as sns \n",
    "import nltk.data\n",
    "from nltk.tokenize import word_tokenize,sent_tokenize\n",
    "from pycorenlp import StanfordCoreNLP\n",
    "from itertools import groupby\n",
    "\n",
    "# from nltk.tag.stanford import NERTagger\n",
    "from nltk.tag import StanfordNERTagger\n",
    "sentence_tokenizer = nltk.data.load('tokenizers/punkt/english.pickle')\n",
    "%matplotlib inline"
   ]
  },
  {
   "cell_type": "code",
   "execution_count": 9,
   "metadata": {
    "collapsed": false
   },
   "outputs": [],
   "source": [
    "def read_data(json_file='../data/book_summary2.json'):\n",
    "    with open(json_file,'r') as f:\n",
    "        return json.load(f)\n",
    "    \n",
    "books = read_data()"
   ]
  },
  {
   "cell_type": "code",
   "execution_count": 10,
   "metadata": {
    "collapsed": false
   },
   "outputs": [],
   "source": [
    "def word_count(text):\n",
    "    return len(re.findall(r'\\w+', text))\n",
    "\n",
    "def character_count(book):\n",
    "    return len(book['characters'])\n",
    "\n",
    "def data_summary(books):\n",
    "    print(\"There are {} books. \".format(len(books)))\n",
    "    print(\"Average length of the summary is . \".format(len(books)))\n",
    "\n",
    "def choose_k(input_list,k):\n",
    "    n = len(input_list)\n",
    "    def choose_range(n, k):\n",
    "        if k == n:\n",
    "            return [input_list]\n",
    "        elif k == 0:\n",
    "            return [[]]\n",
    "        elif k == 1:\n",
    "            return [[(i,input_list[i])] for i in xrange(len(input_list))]\n",
    "        result = []\n",
    "        for lst in choose_range(n-1, k-1):\n",
    "            result.extend(lst + [(i,input_list[i])] for i in range(lst[-1][0] + 1, n))\n",
    "        return result\n",
    "    res = choose_range(n,k)\n",
    "    return [[x[1] for x in items] for items in res]\n",
    "    "
   ]
  },
  {
   "cell_type": "code",
   "execution_count": 11,
   "metadata": {
    "collapsed": false
   },
   "outputs": [
    {
     "ename": "SyntaxError",
     "evalue": "invalid syntax (<ipython-input-11-00095c774d6b>, line 8)",
     "output_type": "error",
     "traceback": [
      "\u001b[0;36m  File \u001b[0;32m\"<ipython-input-11-00095c774d6b>\"\u001b[0;36m, line \u001b[0;32m8\u001b[0m\n\u001b[0;31m    if pair[0] in\u001b[0m\n\u001b[0m                  ^\u001b[0m\n\u001b[0;31mSyntaxError\u001b[0m\u001b[0;31m:\u001b[0m invalid syntax\n"
     ]
    }
   ],
   "source": [
    "def get_text_between_character(book):\n",
    "    sentences = sentence_tokenizer.tokenize(book['summary'])\n",
    "    pairs = choose_k(book['characters'],2)\n",
    "    res = []\n",
    "    for sentence in sentences:\n",
    "        words = word_count_\n",
    "        for pair in pairs:\n",
    "            if pair[0] in \n",
    "    "
   ]
  },
  {
   "cell_type": "code",
   "execution_count": 12,
   "metadata": {
    "collapsed": false
   },
   "outputs": [],
   "source": [
    "word_count_all = [word_count(books[i]['summary']) for i in xrange(len(books))]\n",
    "character_count = [character_count(books[i]) for i in xrange(len(books))]\n"
   ]
  },
  {
   "cell_type": "code",
   "execution_count": 13,
   "metadata": {
    "collapsed": false
   },
   "outputs": [
    {
     "data": {
      "text/plain": [
       "(array([  19.,  116.,  301.,  104.,   26.,    9.,    5.,    1.,    1.,    2.]),\n",
       " array([    0. ,   355.2,   710.4,  1065.6,  1420.8,  1776. ,  2131.2,\n",
       "         2486.4,  2841.6,  3196.8,  3552. ]),\n",
       " <a list of 10 Patch objects>)"
      ]
     },
     "execution_count": 13,
     "metadata": {},
     "output_type": "execute_result"
    },
    {
     "data": {
      "image/png": "[encoded data removed]",
      "text/plain": [
       "<matplotlib.figure.Figure at 0x11c864dd0>"
      ]
     },
     "metadata": {},
     "output_type": "display_data"
    }
   ],
   "source": [
    "plt.title('Histogram for len of books')\n",
    "plt.hist(word_count_all)"
   ]
  },
  {
   "cell_type": "code",
   "execution_count": 14,
   "metadata": {
    "collapsed": false,
    "scrolled": true
   },
   "outputs": [
    {
     "data": {
      "text/plain": [
       "(array([  71.,  180.,  212.,   69.,   29.,    9.,    7.,    5.,    1.,    1.]),\n",
       " array([  0. ,   7.5,  15. ,  22.5,  30. ,  37.5,  45. ,  52.5,  60. ,\n",
       "         67.5,  75. ]),\n",
       " <a list of 10 Patch objects>)"
      ]
     },
     "execution_count": 14,
     "metadata": {},
     "output_type": "execute_result"
    },
    {
     "data": {
      "image/png": "[encoded data removed]",
      "text/plain": [
       "<matplotlib.figure.Figure at 0x11f8dc690>"
      ]
     },
     "metadata": {},
     "output_type": "display_data"
    }
   ],
   "source": [
    "plt.title('Histogram for number of characters')\n",
    "plt.hist(character_count)"
   ]
  },
  {
   "cell_type": "code",
   "execution_count": 15,
   "metadata": {
    "collapsed": false
   },
   "outputs": [
    {
     "data": {
      "text/plain": [
       "[['a', 'b', 'c'],\n",
       " ['a', 'b', 'd'],\n",
       " ['a', 'b', 'e'],\n",
       " ['a', 'c', 'd'],\n",
       " ['a', 'c', 'e'],\n",
       " ['a', 'd', 'e'],\n",
       " ['b', 'c', 'd'],\n",
       " ['b', 'c', 'e'],\n",
       " ['b', 'd', 'e'],\n",
       " ['c', 'd', 'e']]"
      ]
     },
     "execution_count": 15,
     "metadata": {},
     "output_type": "execute_result"
    }
   ],
   "source": [
    "def choose_k(input_list,k):\n",
    "    n = len(input_list)\n",
    "    def choose_range(n, k):\n",
    "        if k == n:\n",
    "            return [input_list]\n",
    "        elif k == 0:\n",
    "            return [[]]\n",
    "        elif k == 1:\n",
    "            return [[(i,input_list[i])] for i in xrange(len(input_list))]\n",
    "        result = []\n",
    "        for lst in choose_range(n-1, k-1):\n",
    "            result.extend(lst + [(i,input_list[i])] for i in range(lst[-1][0] + 1, n))\n",
    "        return result\n",
    "    res = choose_range(n,k)\n",
    "    return [[x[1] for x in items] for items in res]\n",
    "\n",
    "choose_k(['a','b','c','d','e'],3)"
   ]
  },
  {
   "cell_type": "code",
   "execution_count": 16,
   "metadata": {
    "collapsed": true
   },
   "outputs": [],
   "source": [
    "book = books[0]\n",
    "pairs = choose_k([ch[0] for ch in book['characters']],2)\n",
    "text = book['summary']"
   ]
  },
  {
   "cell_type": "code",
   "execution_count": 17,
   "metadata": {
    "collapsed": false
   },
   "outputs": [
    {
     "data": {
      "text/plain": [
       "[[u'Winston Smith', u'Julia'],\n",
       " [u'Winston Smith', u'O\\u2019Brien'],\n",
       " [u'Winston Smith', u'Big Brother'],\n",
       " [u'Winston Smith', u'Mr. Charrington'],\n",
       " [u'Winston Smith', u'Syme'],\n",
       " [u'Winston Smith', u'Parsons'],\n",
       " [u'Winston Smith', u'Emmanuel Goldstein'],\n",
       " [u'Julia', u'O\\u2019Brien'],\n",
       " [u'Julia', u'Big Brother'],\n",
       " [u'Julia', u'Mr. Charrington'],\n",
       " [u'Julia', u'Syme'],\n",
       " [u'Julia', u'Parsons'],\n",
       " [u'Julia', u'Emmanuel Goldstein'],\n",
       " [u'O\\u2019Brien', u'Big Brother'],\n",
       " [u'O\\u2019Brien', u'Mr. Charrington'],\n",
       " [u'O\\u2019Brien', u'Syme'],\n",
       " [u'O\\u2019Brien', u'Parsons'],\n",
       " [u'O\\u2019Brien', u'Emmanuel Goldstein'],\n",
       " [u'Big Brother', u'Mr. Charrington'],\n",
       " [u'Big Brother', u'Syme'],\n",
       " [u'Big Brother', u'Parsons'],\n",
       " [u'Big Brother', u'Emmanuel Goldstein'],\n",
       " [u'Mr. Charrington', u'Syme'],\n",
       " [u'Mr. Charrington', u'Parsons'],\n",
       " [u'Mr. Charrington', u'Emmanuel Goldstein'],\n",
       " [u'Syme', u'Parsons'],\n",
       " [u'Syme', u'Emmanuel Goldstein'],\n",
       " [u'Parsons', u'Emmanuel Goldstein']]"
      ]
     },
     "execution_count": 17,
     "metadata": {},
     "output_type": "execute_result"
    }
   ],
   "source": [
    "pairs"
   ]
  },
  {
   "cell_type": "code",
   "execution_count": 18,
   "metadata": {
    "collapsed": false
   },
   "outputs": [
    {
     "data": {
      "text/plain": [
       "u'Winston Smith is a low-rankingmember of the ruling Party in London, in the nationof Oceania. Everywhere Winston goes, even his own home, the Partywatches him through telescreens; everywhere he looks he sees theface of the Party\\u2019s seemingly omniscient leader, a figure knownonly as Big Brother. The Party controls everything in Oceania, eventhe people\\u2019s history and language. Currently, the Party is forcingthe implementation of an invented language called Newspeak, whichattempts to prevent political rebellion by eliminating all wordsrelated to it. Even thinking rebellious thoughts is illegal. Suchthoughtcrime is, in fact, the worst of all crimes.\\nAs the novel opens, Winston feels frustrated by the oppression andrigid control of the Party, which prohibits free thought, sex, and anyexpression of individuality. Winston dislikes the party and has illegallypurchased a diary in which to write his criminal thoughts. He hasalso become fixated on a powerful Party member named O\\xe2\\x80\\x99Brien, whomWinston believes is a secret member of the Brotherhood\\u2014the mysterious,legendary group that works to overthrow the Party.\\nWinston works in the Ministry of Truth, where he altershistorical records to fit the needs of the Party. He notices a coworker,a beautiful dark-haired girl, staring at him, and worries that sheis an informant who will turn him in for his thoughtcrime. He istroubled by the Party\\u2019s control of history: the Party claims thatOceania has always been allied with Eastasia in a war against Eurasia,but Winston seems to recall a time when this was not true. The Partyalso claims that Emmanuel Goldstein, the alleged leader of the Brotherhood,is the most dangerous man alive, but this does not seem plausibleto Winston. Winston spends his evenings wandering through the poorestneighborhoods in London, where the proletarians, or proles, livesqualid lives, relatively free of Party monitoring.\\nOne day, Winston receives a note from the dark-hairedgirl that reads \\u201cI love you.\\u201d She tells him her name, Julia, andthey begin a covert affair, always on the lookout for signs of Partymonitoring. Eventually they rent a room above the secondhand storein the prole district where Winston bought the diary. This relationshiplasts for some time. Winston is sure that they will be caught andpunished sooner or later (the fatalistic Winston knows that he hasbeen doomed since he wrote his first diary entry), while Julia ismore pragmatic and optimistic. As Winston\\u2019s affair with Julia progresses, hishatred for the Party grows more and more intense. At last, he receivesthe message that he has been waiting for: O\\u2019Brien wants to see him.\\nWinston and Julia travel to O\\u2019Brien\\u2019s luxurious apartment.As a member of the powerful Inner Party (Winston belongs to theOuter Party), O\\u2019Brien leads a life of luxury that Winston can onlyimagine. O\\u2019Brien confirms to Winston and Julia that, like them,he hates the Party, and says that he works against it as a memberof the Brotherhood. He indoctrinates Winston and Julia into theBrotherhood, and gives Winston a copy of Emmanuel Goldstein\\u2019s book,the manifesto of the Brotherhood. Winston reads the book\\u2014an amalgamof several forms of class-based twentieth-century social theory\\u2014to Juliain the room above the store. Suddenly, soldiers barge in and seizethem. Mr. Charrington, the proprietor of the store, is revealed ashaving been a member of the Thought Police all along.\\nTorn away from Julia and taken to a place called the Ministryof Love, Winston finds that O\\u2019Brien, too, is a Party spy who simply pretendedto be a member of the Brotherhood in order to trap Winston intocommitting an open act of rebellion against the Party. O\\u2019Brien spendsmonths torturing and brainwashing Winston, who struggles to resist.At last, O\\u2019Brien sends him to the dreaded Room 101,the final destination for anyone who opposes the Party. Here, O\\u2019Brientells Winston that he will be forced to confront his worst fear.Throughout the novel, Winston has had recurring nightmares aboutrats; O\\u2019Brien now straps a cage full of rats onto Winston\\u2019s headand prepares to allow the rats to eat his face. Winston snaps, pleadingwith O\\u2019Brien to do it to Julia, not to him.\\nGiving up Julia is what O\\u2019Brien wanted from Winston allalong. His spirit broken, Winston is released to the outside world.He meets Julia but no longer feels anything for her. He has acceptedthe Party entirely and has learned to love Big Brother.'"
      ]
     },
     "execution_count": 18,
     "metadata": {},
     "output_type": "execute_result"
    }
   ],
   "source": [
    "text  #Mr.Potter Mrs.Potter"
   ]
  },
  {
   "cell_type": "code",
   "execution_count": 1,
   "metadata": {
    "collapsed": false,
    "scrolled": true
   },
   "outputs": [],
   "source": [
    "from nltk.tag import StanfordNERTagger\n",
    "\n",
    "# st = StanfordNERTagger('/Users/codehi/tools/StanfordParser/stanford-ner-2016-10-31/classifiers/english.all.3class.distsim.crf.ser.gz',\n",
    "#                '/Users/codehi/tools/StanfordParser/stanford-ner-2016-10-31/stanford-ner.jar') \n",
    "\n",
    "st = StanfordNERTagger('english.all.3class.distsim.crf.ser.gz')#\n",
    "#r'/Users/codehi/Projects/Galvanize/Capstone/tools/stanford-english-corenlp-2016-10-31-models.jar') \n",
    "# st = POSTagger(r'english-bidirectional-distim.tagger',r'/Users/codehi/Projects/Galvanize/Capstone/tools/stanford-english-corenlp-2016-10-31-models.jar')\n"
   ]
  },
  {
   "cell_type": "code",
   "execution_count": null,
   "metadata": {
    "collapsed": false
   },
   "outputs": [],
   "source": [
    "netagged_words = st.tag('Rami Eid is studying at Stony Brook University in New York'.split()) \n",
    "for tag, chunk in groupby(netagged_words, lambda x:x[1]):\n",
    "    if tag != \"O\":\n",
    "        print(\"%-12s\"%tag, \" \".join(w for w, t in chunk))"
   ]
  },
  {
   "cell_type": "code",
   "execution_count": 33,
   "metadata": {
    "collapsed": false
   },
   "outputs": [
    {
     "data": {
      "text/plain": [
       "[(u'Rami', u'PERSON'),\n",
       " (u'Eid', u'PERSON'),\n",
       " (u'is', u'O'),\n",
       " (u'studying', u'O'),\n",
       " (u'at', u'O'),\n",
       " (u'Stony', u'ORGANIZATION'),\n",
       " (u'Brook', u'ORGANIZATION'),\n",
       " (u'University', u'ORGANIZATION'),\n",
       " (u'in', u'O'),\n",
       " (u'New', u'LOCATION'),\n",
       " (u'York', u'LOCATION')]"
      ]
     },
     "execution_count": 33,
     "metadata": {},
     "output_type": "execute_result"
    }
   ],
   "source": [
    "netagged_words"
   ]
  },
  {
   "cell_type": "code",
   "execution_count": 37,
   "metadata": {
    "collapsed": false
   },
   "outputs": [
    {
     "name": "stdout",
     "output_type": "stream",
     "text": [
      "(u'They', 500, u'they', 445, u'PRP', 92, u'PRON')\n",
      "(u'told', 750, u'tell', 455, u'VBD', 97, u'VERB')\n",
      "(u'us', 694, u'us', 445, u'PRP', 92, u'PRON')\n",
      "(u'to', 468, u'to', 452, u'TO', 91, u'PART')\n",
      "(u'duck', 5792, u'duck', 454, u'VB', 97, u'VERB')\n",
      "(u'.', 419, u'.', 419, u'.', 94, u'PUNCT')\n"
     ]
    }
   ],
   "source": [
    "import spacy\n",
    "nlp = spacy.load('en')\n",
    "doc = nlp(u'They told us to duck.')\n",
    "for word in doc:\n",
    "    print(word.text, word.lemma, word.lemma_, word.tag, word.tag_, word.pos, word.pos_)"
   ]
  },
  {
   "cell_type": "code",
   "execution_count": 56,
   "metadata": {
    "collapsed": false
   },
   "outputs": [
    {
     "name": "stdout",
     "output_type": "stream",
     "text": [
      "(u'PERSON', u'Rami Eid')\n",
      "(u'ORG', u'Stony Brook University')\n",
      "(u'GPE', u'New York')\n"
     ]
    }
   ],
   "source": [
    "doc = nlp(u'Rami Eid is studying at Stony Brook University in New York.')\n",
    "for ent in doc.ents:\n",
    "    print(ent.label_, ent.text)"
   ]
  },
  {
   "cell_type": "code",
   "execution_count": 59,
   "metadata": {
    "collapsed": false
   },
   "outputs": [
    {
     "name": "stdout",
     "output_type": "stream",
     "text": [
      "(u'Rami', u'rami', u'NNP', u'PROPN')\n",
      "(u'Eid', u'eid', u'NNP', u'PROPN')\n",
      "(u'is', u'be', u'VBZ', u'VERB')\n",
      "(u'studying', u'study', u'VBG', u'VERB')\n",
      "(u'at', u'at', u'IN', u'ADP')\n",
      "(u'Stony', u'stony', u'NNP', u'PROPN')\n",
      "(u'Brook', u'brook', u'NNP', u'PROPN')\n",
      "(u'University', u'university', u'NNP', u'PROPN')\n",
      "(u'in', u'in', u'IN', u'ADP')\n",
      "(u'New', u'new', u'NNP', u'PROPN')\n",
      "(u'York', u'york', u'NNP', u'PROPN')\n",
      "(u'.', u'.', u'.', u'PUNCT')\n"
     ]
    }
   ],
   "source": [
    "for word in doc:\n",
    "    print(word.text,  word.lemma_, word.tag_, word.pos_)"
   ]
  },
  {
   "cell_type": "code",
   "execution_count": 51,
   "metadata": {
    "collapsed": false
   },
   "outputs": [
    {
     "data": {
      "text/plain": [
       "[Rami Eid, Stony Brook University, New York]"
      ]
     },
     "execution_count": 51,
     "metadata": {},
     "output_type": "execute_result"
    }
   ],
   "source": [
    "list(doc.noun_chunks)"
   ]
  },
  {
   "cell_type": "code",
   "execution_count": 55,
   "metadata": {
    "collapsed": false
   },
   "outputs": [
    {
     "name": "stdout",
     "output_type": "stream",
     "text": [
      "Winston Smith\n",
      "\n",
      "Winston\n",
      "\n",
      "\n",
      "\n",
      "\n",
      "\n",
      "Winston\n",
      "\n",
      "Winston\n",
      "\n",
      "\n",
      "Winston\n",
      "\n",
      "\n",
      "Eurasia\n",
      "Winston\n",
      "\n",
      "Partyalso\n",
      "Emmanuel Goldstein\n",
      "Winston\n",
      "\n",
      "Winston\n",
      "\n",
      "Winston\n",
      "Julia\n",
      "\n",
      "Winston\n",
      "\n",
      "\n",
      "Winston\n",
      "Winston\n",
      "Julia\n",
      "\n",
      "Winston’s\n",
      "Julia\n",
      "\n",
      "\n",
      "Winston\n",
      "Julia\n",
      "O’Brien’s\n",
      "Winston\n",
      "Winston\n",
      "\n",
      "Winston\n",
      "Julia\n",
      "\n",
      "Winston\n",
      "Julia\n",
      "Winston\n",
      "Emmanuel Goldstein\n",
      "\n",
      "Winston\n",
      "\n",
      "\n",
      "Charrington\n",
      "\n",
      "Julia\n",
      "Winston\n",
      "Winston\n",
      "\n",
      "Winston\n",
      "\n",
      "Winston\n",
      "Winston\n",
      "Winston’s\n",
      "\n",
      "Julia\n",
      "\n",
      "Julia\n",
      "O’Brien\n",
      "Winston\n",
      "\n",
      "Winston\n",
      "Julia\n",
      "\n",
      "\n"
     ]
    }
   ],
   "source": [
    "for sent in sent_tokenize(text):\n",
    "    doc = nlp(sent)\n",
    "    for ent in doc.ents:\n",
    "        if ent.label_ == 'PERSON':\n",
    "            print(ent.text)\n",
    "    print "
   ]
  },
  {
   "cell_type": "code",
   "execution_count": 62,
   "metadata": {
    "collapsed": true
   },
   "outputs": [],
   "source": [
    "from pycorenlp import StanfordCoreNLP\n",
    "nlp = StanfordCoreNLP('http://localhost:9000')"
   ]
  },
  {
   "cell_type": "code",
   "execution_count": 65,
   "metadata": {
    "collapsed": false
   },
   "outputs": [
    {
     "data": {
      "text/plain": [
       "{u'sentences': [{u'basicDependencies': [{u'dep': u'ROOT',\n",
       "     u'dependent': 2,\n",
       "     u'dependentGloss': u'love',\n",
       "     u'governor': 0,\n",
       "     u'governorGloss': u'ROOT'},\n",
       "    {u'dep': u'nsubj',\n",
       "     u'dependent': 1,\n",
       "     u'dependentGloss': u'I',\n",
       "     u'governor': 2,\n",
       "     u'governorGloss': u'love'},\n",
       "    {u'dep': u'dobj',\n",
       "     u'dependent': 3,\n",
       "     u'dependentGloss': u'you',\n",
       "     u'governor': 2,\n",
       "     u'governorGloss': u'love'},\n",
       "    {u'dep': u'punct',\n",
       "     u'dependent': 4,\n",
       "     u'dependentGloss': u'.',\n",
       "     u'governor': 2,\n",
       "     u'governorGloss': u'love'}],\n",
       "   u'enhancedDependencies': [{u'dep': u'ROOT',\n",
       "     u'dependent': 2,\n",
       "     u'dependentGloss': u'love',\n",
       "     u'governor': 0,\n",
       "     u'governorGloss': u'ROOT'},\n",
       "    {u'dep': u'nsubj',\n",
       "     u'dependent': 1,\n",
       "     u'dependentGloss': u'I',\n",
       "     u'governor': 2,\n",
       "     u'governorGloss': u'love'},\n",
       "    {u'dep': u'dobj',\n",
       "     u'dependent': 3,\n",
       "     u'dependentGloss': u'you',\n",
       "     u'governor': 2,\n",
       "     u'governorGloss': u'love'},\n",
       "    {u'dep': u'punct',\n",
       "     u'dependent': 4,\n",
       "     u'dependentGloss': u'.',\n",
       "     u'governor': 2,\n",
       "     u'governorGloss': u'love'}],\n",
       "   u'enhancedPlusPlusDependencies': [{u'dep': u'ROOT',\n",
       "     u'dependent': 2,\n",
       "     u'dependentGloss': u'love',\n",
       "     u'governor': 0,\n",
       "     u'governorGloss': u'ROOT'},\n",
       "    {u'dep': u'nsubj',\n",
       "     u'dependent': 1,\n",
       "     u'dependentGloss': u'I',\n",
       "     u'governor': 2,\n",
       "     u'governorGloss': u'love'},\n",
       "    {u'dep': u'dobj',\n",
       "     u'dependent': 3,\n",
       "     u'dependentGloss': u'you',\n",
       "     u'governor': 2,\n",
       "     u'governorGloss': u'love'},\n",
       "    {u'dep': u'punct',\n",
       "     u'dependent': 4,\n",
       "     u'dependentGloss': u'.',\n",
       "     u'governor': 2,\n",
       "     u'governorGloss': u'love'}],\n",
       "   u'index': 0,\n",
       "   u'parse': u'(ROOT\\n  (S\\n    (NP (PRP I))\\n    (VP (VBP love)\\n      (NP (PRP you)))\\n    (. .)))',\n",
       "   u'sentiment': u'Positive',\n",
       "   u'sentimentValue': u'3',\n",
       "   u'tokens': [{u'after': u' ',\n",
       "     u'before': u'',\n",
       "     u'characterOffsetBegin': 0,\n",
       "     u'characterOffsetEnd': 1,\n",
       "     u'index': 1,\n",
       "     u'originalText': u'I',\n",
       "     u'pos': u'PRP',\n",
       "     u'word': u'I'},\n",
       "    {u'after': u' ',\n",
       "     u'before': u' ',\n",
       "     u'characterOffsetBegin': 2,\n",
       "     u'characterOffsetEnd': 6,\n",
       "     u'index': 2,\n",
       "     u'originalText': u'love',\n",
       "     u'pos': u'VBP',\n",
       "     u'word': u'love'},\n",
       "    {u'after': u'',\n",
       "     u'before': u' ',\n",
       "     u'characterOffsetBegin': 7,\n",
       "     u'characterOffsetEnd': 10,\n",
       "     u'index': 3,\n",
       "     u'originalText': u'you',\n",
       "     u'pos': u'PRP',\n",
       "     u'word': u'you'},\n",
       "    {u'after': u' ',\n",
       "     u'before': u'',\n",
       "     u'characterOffsetBegin': 10,\n",
       "     u'characterOffsetEnd': 11,\n",
       "     u'index': 4,\n",
       "     u'originalText': u'.',\n",
       "     u'pos': u'.',\n",
       "     u'word': u'.'}]},\n",
       "  {u'basicDependencies': [{u'dep': u'ROOT',\n",
       "     u'dependent': 2,\n",
       "     u'dependentGloss': u'hate',\n",
       "     u'governor': 0,\n",
       "     u'governorGloss': u'ROOT'},\n",
       "    {u'dep': u'nsubj',\n",
       "     u'dependent': 1,\n",
       "     u'dependentGloss': u'I',\n",
       "     u'governor': 2,\n",
       "     u'governorGloss': u'hate'},\n",
       "    {u'dep': u'dobj',\n",
       "     u'dependent': 3,\n",
       "     u'dependentGloss': u'him',\n",
       "     u'governor': 2,\n",
       "     u'governorGloss': u'hate'},\n",
       "    {u'dep': u'punct',\n",
       "     u'dependent': 4,\n",
       "     u'dependentGloss': u'.',\n",
       "     u'governor': 2,\n",
       "     u'governorGloss': u'hate'}],\n",
       "   u'enhancedDependencies': [{u'dep': u'ROOT',\n",
       "     u'dependent': 2,\n",
       "     u'dependentGloss': u'hate',\n",
       "     u'governor': 0,\n",
       "     u'governorGloss': u'ROOT'},\n",
       "    {u'dep': u'nsubj',\n",
       "     u'dependent': 1,\n",
       "     u'dependentGloss': u'I',\n",
       "     u'governor': 2,\n",
       "     u'governorGloss': u'hate'},\n",
       "    {u'dep': u'dobj',\n",
       "     u'dependent': 3,\n",
       "     u'dependentGloss': u'him',\n",
       "     u'governor': 2,\n",
       "     u'governorGloss': u'hate'},\n",
       "    {u'dep': u'punct',\n",
       "     u'dependent': 4,\n",
       "     u'dependentGloss': u'.',\n",
       "     u'governor': 2,\n",
       "     u'governorGloss': u'hate'}],\n",
       "   u'enhancedPlusPlusDependencies': [{u'dep': u'ROOT',\n",
       "     u'dependent': 2,\n",
       "     u'dependentGloss': u'hate',\n",
       "     u'governor': 0,\n",
       "     u'governorGloss': u'ROOT'},\n",
       "    {u'dep': u'nsubj',\n",
       "     u'dependent': 1,\n",
       "     u'dependentGloss': u'I',\n",
       "     u'governor': 2,\n",
       "     u'governorGloss': u'hate'},\n",
       "    {u'dep': u'dobj',\n",
       "     u'dependent': 3,\n",
       "     u'dependentGloss': u'him',\n",
       "     u'governor': 2,\n",
       "     u'governorGloss': u'hate'},\n",
       "    {u'dep': u'punct',\n",
       "     u'dependent': 4,\n",
       "     u'dependentGloss': u'.',\n",
       "     u'governor': 2,\n",
       "     u'governorGloss': u'hate'}],\n",
       "   u'index': 1,\n",
       "   u'parse': u'(ROOT\\n  (S\\n    (NP (PRP I))\\n    (VP (VBP hate)\\n      (NP (PRP him)))\\n    (. .)))',\n",
       "   u'sentiment': u'Negative',\n",
       "   u'sentimentValue': u'1',\n",
       "   u'tokens': [{u'after': u' ',\n",
       "     u'before': u' ',\n",
       "     u'characterOffsetBegin': 12,\n",
       "     u'characterOffsetEnd': 13,\n",
       "     u'index': 1,\n",
       "     u'originalText': u'I',\n",
       "     u'pos': u'PRP',\n",
       "     u'word': u'I'},\n",
       "    {u'after': u' ',\n",
       "     u'before': u' ',\n",
       "     u'characterOffsetBegin': 14,\n",
       "     u'characterOffsetEnd': 18,\n",
       "     u'index': 2,\n",
       "     u'originalText': u'hate',\n",
       "     u'pos': u'VBP',\n",
       "     u'word': u'hate'},\n",
       "    {u'after': u'',\n",
       "     u'before': u' ',\n",
       "     u'characterOffsetBegin': 19,\n",
       "     u'characterOffsetEnd': 22,\n",
       "     u'index': 3,\n",
       "     u'originalText': u'him',\n",
       "     u'pos': u'PRP',\n",
       "     u'word': u'him'},\n",
       "    {u'after': u' ',\n",
       "     u'before': u'',\n",
       "     u'characterOffsetBegin': 22,\n",
       "     u'characterOffsetEnd': 23,\n",
       "     u'index': 4,\n",
       "     u'originalText': u'.',\n",
       "     u'pos': u'.',\n",
       "     u'word': u'.'}]},\n",
       "  {u'basicDependencies': [{u'dep': u'ROOT',\n",
       "     u'dependent': 3,\n",
       "     u'dependentGloss': u'nice',\n",
       "     u'governor': 0,\n",
       "     u'governorGloss': u'ROOT'},\n",
       "    {u'dep': u'nsubj',\n",
       "     u'dependent': 1,\n",
       "     u'dependentGloss': u'You',\n",
       "     u'governor': 3,\n",
       "     u'governorGloss': u'nice'},\n",
       "    {u'dep': u'cop',\n",
       "     u'dependent': 2,\n",
       "     u'dependentGloss': u'are',\n",
       "     u'governor': 3,\n",
       "     u'governorGloss': u'nice'},\n",
       "    {u'dep': u'punct',\n",
       "     u'dependent': 4,\n",
       "     u'dependentGloss': u'.',\n",
       "     u'governor': 3,\n",
       "     u'governorGloss': u'nice'}],\n",
       "   u'enhancedDependencies': [{u'dep': u'ROOT',\n",
       "     u'dependent': 3,\n",
       "     u'dependentGloss': u'nice',\n",
       "     u'governor': 0,\n",
       "     u'governorGloss': u'ROOT'},\n",
       "    {u'dep': u'nsubj',\n",
       "     u'dependent': 1,\n",
       "     u'dependentGloss': u'You',\n",
       "     u'governor': 3,\n",
       "     u'governorGloss': u'nice'},\n",
       "    {u'dep': u'cop',\n",
       "     u'dependent': 2,\n",
       "     u'dependentGloss': u'are',\n",
       "     u'governor': 3,\n",
       "     u'governorGloss': u'nice'},\n",
       "    {u'dep': u'punct',\n",
       "     u'dependent': 4,\n",
       "     u'dependentGloss': u'.',\n",
       "     u'governor': 3,\n",
       "     u'governorGloss': u'nice'}],\n",
       "   u'enhancedPlusPlusDependencies': [{u'dep': u'ROOT',\n",
       "     u'dependent': 3,\n",
       "     u'dependentGloss': u'nice',\n",
       "     u'governor': 0,\n",
       "     u'governorGloss': u'ROOT'},\n",
       "    {u'dep': u'nsubj',\n",
       "     u'dependent': 1,\n",
       "     u'dependentGloss': u'You',\n",
       "     u'governor': 3,\n",
       "     u'governorGloss': u'nice'},\n",
       "    {u'dep': u'cop',\n",
       "     u'dependent': 2,\n",
       "     u'dependentGloss': u'are',\n",
       "     u'governor': 3,\n",
       "     u'governorGloss': u'nice'},\n",
       "    {u'dep': u'punct',\n",
       "     u'dependent': 4,\n",
       "     u'dependentGloss': u'.',\n",
       "     u'governor': 3,\n",
       "     u'governorGloss': u'nice'}],\n",
       "   u'index': 2,\n",
       "   u'parse': u'(ROOT\\n  (S\\n    (NP (PRP You))\\n    (VP (VBP are)\\n      (ADJP (JJ nice)))\\n    (. .)))',\n",
       "   u'sentiment': u'Positive',\n",
       "   u'sentimentValue': u'3',\n",
       "   u'tokens': [{u'after': u' ',\n",
       "     u'before': u' ',\n",
       "     u'characterOffsetBegin': 24,\n",
       "     u'characterOffsetEnd': 27,\n",
       "     u'index': 1,\n",
       "     u'originalText': u'You',\n",
       "     u'pos': u'PRP',\n",
       "     u'word': u'You'},\n",
       "    {u'after': u' ',\n",
       "     u'before': u' ',\n",
       "     u'characterOffsetBegin': 28,\n",
       "     u'characterOffsetEnd': 31,\n",
       "     u'index': 2,\n",
       "     u'originalText': u'are',\n",
       "     u'pos': u'VBP',\n",
       "     u'word': u'are'},\n",
       "    {u'after': u'',\n",
       "     u'before': u' ',\n",
       "     u'characterOffsetBegin': 32,\n",
       "     u'characterOffsetEnd': 36,\n",
       "     u'index': 3,\n",
       "     u'originalText': u'nice',\n",
       "     u'pos': u'JJ',\n",
       "     u'word': u'nice'},\n",
       "    {u'after': u' ',\n",
       "     u'before': u'',\n",
       "     u'characterOffsetBegin': 36,\n",
       "     u'characterOffsetEnd': 37,\n",
       "     u'index': 4,\n",
       "     u'originalText': u'.',\n",
       "     u'pos': u'.',\n",
       "     u'word': u'.'}]},\n",
       "  {u'basicDependencies': [{u'dep': u'ROOT',\n",
       "     u'dependent': 3,\n",
       "     u'dependentGloss': u'dumb',\n",
       "     u'governor': 0,\n",
       "     u'governorGloss': u'ROOT'},\n",
       "    {u'dep': u'nsubj',\n",
       "     u'dependent': 1,\n",
       "     u'dependentGloss': u'He',\n",
       "     u'governor': 3,\n",
       "     u'governorGloss': u'dumb'},\n",
       "    {u'dep': u'cop',\n",
       "     u'dependent': 2,\n",
       "     u'dependentGloss': u'is',\n",
       "     u'governor': 3,\n",
       "     u'governorGloss': u'dumb'}],\n",
       "   u'enhancedDependencies': [{u'dep': u'ROOT',\n",
       "     u'dependent': 3,\n",
       "     u'dependentGloss': u'dumb',\n",
       "     u'governor': 0,\n",
       "     u'governorGloss': u'ROOT'},\n",
       "    {u'dep': u'nsubj',\n",
       "     u'dependent': 1,\n",
       "     u'dependentGloss': u'He',\n",
       "     u'governor': 3,\n",
       "     u'governorGloss': u'dumb'},\n",
       "    {u'dep': u'cop',\n",
       "     u'dependent': 2,\n",
       "     u'dependentGloss': u'is',\n",
       "     u'governor': 3,\n",
       "     u'governorGloss': u'dumb'}],\n",
       "   u'enhancedPlusPlusDependencies': [{u'dep': u'ROOT',\n",
       "     u'dependent': 3,\n",
       "     u'dependentGloss': u'dumb',\n",
       "     u'governor': 0,\n",
       "     u'governorGloss': u'ROOT'},\n",
       "    {u'dep': u'nsubj',\n",
       "     u'dependent': 1,\n",
       "     u'dependentGloss': u'He',\n",
       "     u'governor': 3,\n",
       "     u'governorGloss': u'dumb'},\n",
       "    {u'dep': u'cop',\n",
       "     u'dependent': 2,\n",
       "     u'dependentGloss': u'is',\n",
       "     u'governor': 3,\n",
       "     u'governorGloss': u'dumb'}],\n",
       "   u'index': 3,\n",
       "   u'parse': u'(ROOT\\n  (S\\n    (NP (PRP He))\\n    (VP (VBZ is)\\n      (ADJP (JJ dumb)))))',\n",
       "   u'sentiment': u'Negative',\n",
       "   u'sentimentValue': u'1',\n",
       "   u'tokens': [{u'after': u' ',\n",
       "     u'before': u' ',\n",
       "     u'characterOffsetBegin': 38,\n",
       "     u'characterOffsetEnd': 40,\n",
       "     u'index': 1,\n",
       "     u'originalText': u'He',\n",
       "     u'pos': u'PRP',\n",
       "     u'word': u'He'},\n",
       "    {u'after': u' ',\n",
       "     u'before': u' ',\n",
       "     u'characterOffsetBegin': 41,\n",
       "     u'characterOffsetEnd': 43,\n",
       "     u'index': 2,\n",
       "     u'originalText': u'is',\n",
       "     u'pos': u'VBZ',\n",
       "     u'word': u'is'},\n",
       "    {u'after': u'',\n",
       "     u'before': u' ',\n",
       "     u'characterOffsetBegin': 44,\n",
       "     u'characterOffsetEnd': 48,\n",
       "     u'index': 3,\n",
       "     u'originalText': u'dumb',\n",
       "     u'pos': u'JJ',\n",
       "     u'word': u'dumb'}]}]}"
      ]
     },
     "execution_count": 65,
     "metadata": {},
     "output_type": "execute_result"
    }
   ],
   "source": [
    "res = nlp.annotate(\"I love you. I hate him. You are nice. He is dumb\",\n",
    "                   properties={\n",
    "                       'annotators': 'sentiment',\n",
    "                       'outputFormat': 'json',\n",
    "                       'timeout': 1000,\n",
    "                   })\n",
    "res"
   ]
  },
  {
   "cell_type": "code",
   "execution_count": 69,
   "metadata": {
    "collapsed": false
   },
   "outputs": [
    {
     "name": "stdout",
     "output_type": "stream",
     "text": [
      "Adding annotator tokenize\n",
      "Adding annotator ssplit\n",
      "Adding annotator pos\n",
      "Reading POS tagger model from edu/stanford/nlp/models/pos-tagger/english-left3words/english-left3words-distsim.tagger ... done [2.0 sec].\n",
      "Adding annotator lemma\n",
      "Adding annotator ner\n",
      "Loading classifier from edu/stanford/nlp/models/ner/english.all.3class.distsim.crf.ser.gz ... done [6.4 sec].\n",
      "Loading classifier from edu/stanford/nlp/models/ner/english.muc.7class.distsim.crf.ser.gz ... done [5.2 sec].\n",
      "Loading classifier from edu/stanford/nlp/models/ner/english.conll.4class.distsim.crf.ser.gz ... done [4.3 sec].\n",
      "Reading TokensRegex rules from edu/stanford/nlp/models/sutime/defs.sutime.txt\n",
      "Reading TokensRegex rules from edu/stanford/nlp/models/sutime/english.sutime.txt\n",
      "Mar 21, 2017 2:57:42 PM edu.stanford.nlp.ling.tokensregex.CoreMapExpressionExtractor appendRules\n",
      "INFO: Ignoring inactive rule: null\n",
      "Mar 21, 2017 2:57:42 PM edu.stanford.nlp.ling.tokensregex.CoreMapExpressionExtractor appendRules\n",
      "INFO: Ignoring inactive rule: temporal-composite-8:ranges\n",
      "Reading TokensRegex rules from edu/stanford/nlp/models/sutime/english.holidays.sutime.txt\n",
      "Initializing JollyDayHoliday for sutime with classpath:edu/stanford/nlp/models/sutime/jollyday/Holidays_sutime.xml\n",
      "Reading TokensRegex rules from edu/stanford/nlp/models/sutime/defs.sutime.txt\n",
      "Reading TokensRegex rules from edu/stanford/nlp/models/sutime/english.sutime.txt\n",
      "Mar 21, 2017 2:57:43 PM edu.stanford.nlp.ling.tokensregex.CoreMapExpressionExtractor appendRules\n",
      "INFO: Ignoring inactive rule: null\n",
      "Mar 21, 2017 2:57:43 PM edu.stanford.nlp.ling.tokensregex.CoreMapExpressionExtractor appendRules\n",
      "INFO: Ignoring inactive rule: temporal-composite-8:ranges\n",
      "Reading TokensRegex rules from edu/stanford/nlp/models/sutime/english.holidays.sutime.txt\n",
      "Creating maltparser with id 0\n",
      "org.maltparser.core.config.ConfigurationException: Couldn't find the MaltParser configuration file: engmalt.linear-1.7.mco\n",
      "\tat org.maltparser.core.config.ConfigurationDir.<init>(ConfigurationDir.java:124)\n",
      "\tat org.maltparser.core.config.ConfigDirChartItem.initialize(ConfigDirChartItem.java:85)\n",
      "\tat org.maltparser.core.flow.FlowChartInstance.initChartItem(FlowChartInstance.java:72)\n",
      "\tat org.maltparser.core.flow.FlowChartInstance.<init>(FlowChartInstance.java:53)\n",
      "\tat org.maltparser.core.flow.FlowChartManager.initialize(FlowChartManager.java:104)\n",
      "\tat org.maltparser.Engine.initialize(Engine.java:45)\n",
      "\tat org.maltparser.MaltParserService.initializeParserModel(MaltParserService.java:107)\n",
      "\tat novels.annotators.SyntaxAnnotator.initialize(SyntaxAnnotator.java:251)\n",
      "\tat novels.annotators.SyntaxAnnotator.process(SyntaxAnnotator.java:264)\n",
      "\tat novels.BookNLP.main(BookNLP.java:144)\n",
      "Tagging and parsing...\n",
      "Mar 21, 2017 2:57:43 PM edu.stanford.nlp.process.PTBLexer next\n",
      "WARNING: Untokenizable:  (U+99, decimal: 153)\n",
      "Exception in thread \"main\" org.maltparser.core.exception.MaltChainedException: No parser model has been initialized. Please use the method initializeParserModel() before invoking this method.\n",
      "\tat org.maltparser.MaltParserService.parse(MaltParserService.java:133)\n",
      "\tat novels.annotators.SyntaxAnnotator.process(SyntaxAnnotator.java:344)\n",
      "\tat novels.BookNLP.main(BookNLP.java:144)\n"
     ]
    }
   ],
   "source": [
    "! ../tools/book-nlp/runjava novels/BookNLP -doc /Users/codehi/Projects/Galvanize/Capstone/data/summary-text/1.1984.txt -printHTML -p  /Users/codehi/Projects/Galvanize/Capstone/data/summary-tag -tok  /Users/codehi/Projects/Galvanize/Capstone/data/summary-tokens/1984.tokens -f"
   ]
  },
  {
   "cell_type": "code",
   "execution_count": 2,
   "metadata": {
    "collapsed": false
   },
   "outputs": [],
   "source": [
    "import re"
   ]
  },
  {
   "cell_type": "code",
   "execution_count": 10,
   "metadata": {
    "collapsed": false
   },
   "outputs": [
    {
     "name": "stdout",
     "output_type": "stream",
     "text": [
      "['I go over to', 'go up to']\n"
     ]
    }
   ],
   "source": [
    "search_go_to = set([\"go\", \"to\"])\n",
    "m = ' .*? '.join(x for x in search_go_to)\n",
    "words = set([\"I go over to\", \"go up to\", \"foo bar\"])\n",
    "matches = [s for s in words if re.search(m, s)]\n",
    "print(matches)\n"
   ]
  },
  {
   "cell_type": "code",
   "execution_count": null,
   "metadata": {
    "collapsed": true
   },
   "outputs": [],
   "source": []
  }
 ],
 "metadata": {
  "kernelspec": {
   "display_name": "Python 2",
   "language": "python",
   "name": "python2"
  },
  "language_info": {
   "codemirror_mode": {
    "name": "ipython",
    "version": 2
   },
   "file_extension": ".py",
   "mimetype": "text/x-python",
   "name": "python",
   "nbconvert_exporter": "python",
   "pygments_lexer": "ipython2",
   "version": "2.7.13"
  }
 },
 "nbformat": 4,
 "nbformat_minor": 0
}
