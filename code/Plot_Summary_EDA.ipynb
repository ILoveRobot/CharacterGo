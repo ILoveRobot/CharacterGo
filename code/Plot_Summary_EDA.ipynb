{
 "cells": [
  {
   "cell_type": "code",
   "execution_count": 1,
   "metadata": {
    "collapsed": false
   },
   "outputs": [],
   "source": [
    "import json\n",
    "import numpy as np\n",
    "import re\n",
    "from collections import Counter\n",
    "import matplotlib.pyplot as plt\n",
    "# import seaborn as sns \n",
    "import nltk.data\n",
    "from nltk.tokenize import word_tokenize,sent_tokenize\n",
    "# from pycorenlp import StanfordCoreNLP\n",
    "from itertools import groupby\n",
    "\n",
    "# from nltk.tag.stanford import NERTagger\n",
    "from nltk.tag import StanfordNERTagger\n",
    "sentence_tokenizer = nltk.data.load('tokenizers/punkt/english.pickle')\n",
    "%matplotlib inline"
   ]
  },
  {
   "cell_type": "code",
   "execution_count": 3,
   "metadata": {
    "collapsed": false
   },
   "outputs": [],
   "source": [
    "def read_data(json_file='../data/book_summary2.json'):\n",
    "    with open(json_file,'r') as f:\n",
    "        return json.load(f)\n",
    "    \n",
    "books = read_data()"
   ]
  },
  {
   "cell_type": "code",
   "execution_count": 4,
   "metadata": {
    "collapsed": false
   },
   "outputs": [],
   "source": [
    "character_list = [[ c[0] for c in b['characters']] for b in books]"
   ]
  },
  {
   "cell_type": "code",
   "execution_count": 5,
   "metadata": {
    "collapsed": false
   },
   "outputs": [],
   "source": [
    "character_list = [item for sublist in character_list for item in sublist]"
   ]
  },
  {
   "cell_type": "code",
   "execution_count": 6,
   "metadata": {
    "collapsed": false
   },
   "outputs": [],
   "source": [
    "import unicodedata\n",
    "\n",
    "\"\"\" Normalise (normalize) unicode data in Python to remove umlauts, accents etc. \"\"\"\n",
    "def unicode_normalizer(text):\n",
    "    text =text.replace(u\"\\u2019\", \"'\")\n",
    "    normal = unicodedata.normalize('NFKD', text).encode('ASCII', 'ignore')\n",
    "    return normal"
   ]
  },
  {
   "cell_type": "code",
   "execution_count": 6,
   "metadata": {
    "collapsed": false
   },
   "outputs": [
    {
     "data": {
      "text/plain": [
       "str"
      ]
     },
     "execution_count": 6,
     "metadata": {},
     "output_type": "execute_result"
    }
   ],
   "source": [
    "type(unicode_normalizer(u'José Arcadio (II)'))"
   ]
  },
  {
   "cell_type": "code",
   "execution_count": 7,
   "metadata": {
    "collapsed": false
   },
   "outputs": [
    {
     "name": "stdout",
     "output_type": "stream",
     "text": [
      "O’Brien\n",
      "Ahmed’s Mother\n",
      "Ahmed’s Father\n",
      "The Grimes’s Son\n",
      "The Grimes’s Daughter\n",
      "The Narrator’s Brother\n",
      "Nora’s father\n",
      "Muriel’s Mother\n",
      "Beneatha Younger (“Bennie”)\n",
      "Lena Younger (“Mama”)\n",
      "Kincaid’s Mother\n",
      "The “Other Prime Minister”\n",
      "“You”\n",
      "Harold “Mitch” Mitchell\n",
      "Marquis Evrémonde\n",
      "The First Friend (“Plaid”)\n",
      "The Second Friend (“Big Tall Goony Goony”)\n",
      "Alice’s sister\n",
      "Ilse Kleinzähler\n",
      "Frau Kügler\n",
      "Paul Bäumer\n",
      "Müller\n",
      "Gérard Duval\n",
      "Farquhar’s Wife\n",
      "Mr. O’Halloran\n",
      "O’Brien\n",
      "Francisco d’Anconia\n",
      "Grendel’s mother\n",
      "Ship’s Surgeon\n",
      "Ship’s Purser\n",
      "Ship’s Chaplain\n",
      "Lamott’s Father\n",
      "Lamott’s Aunt\n",
      "The Depressed Writer from the Writer’s Group\n",
      "“Professor” Matthews\n",
      "Antonio Márez\n",
      "Gabriel and María Márez\n",
      "Antonio’s friends: Abel, Bones, Ernie, Horse, Lloyd, Red, and the Vitamin Kid\n",
      "Andrew, Eugene, and León Márez\n",
      "Deborah and Theresa Márez\n",
      "Antonio’s uncles: Juan, Lucas, Mateo, and Pedro Luna\n",
      "Chávez\n",
      "Jasón Chávez\n",
      "Jasón Chávez’s Indian\n",
      "Téllez\n",
      "Ultima’s teacher\n",
      "Popé\n",
      "Grandmè Ifé\n",
      "Cunégonde\n",
      "Brother Giroflée\n",
      "Don Fernando d’Ibaraa y Figueora y Mascarenes y Lampourdos y Souza\n",
      "The Abbé of Perigord\n",
      "Nately’s whore\n",
      "Major —— de Coverley\n",
      "Lieutenant Scheisskopf’s wife\n",
      "Katniss’s mother\n",
      "The Narrator’s Wife\n",
      "José Carlos\n",
      "João\n",
      "Vera’s Father\n",
      "Rodion Romanovich Raskolnikov (“Rodya,” “Rodka”)\n",
      "Sofya Semyonovna Marmeladov (“Sonya,” “Sonechka”)\n",
      "Avdotya Romanovna Raskolnikov (“Dunya,” “Dunechka”)\n",
      "Nastasya Petrovna (“Nastenka,” “Nastasyushka”)\n",
      "Ilya Petrovich (“Gunpowder”)\n",
      "Nikolai Dementiev (“Mikolka”)\n",
      "Polina Mikhailovna Marmeladov (“Polya,” “Polenka,” “Polechka”)\n",
      "Gertrude’s son\n",
      "Absalom’s girlfriend\n",
      "Arthur’s son\n",
      "The Présidente de Tourvel (in some English editions, Madame de Tourvel)\n",
      "Cécile Volanges\n",
      "Prévan\n",
      "Little Em’ly\n",
      "Ni’ma\n",
      "Badriyya’s Mother\n",
      "Badriyya’s Uncle\n",
      "“The Sisters” narrator\n",
      "“An Encounter” narrator\n",
      "“Araby” narrator\n",
      "Mangan’s sister\n",
      "Mat O’Connor\n",
      "Eleanor’s father\n",
      "Park’s grandparents\n",
      "The everyman’s mother and father\n",
      "Julian’s Mother\n",
      "Carver’s Mother\n",
      "Harold “Peewee” Gates\n",
      "Woodrow “Woody” Wakatsuki\n",
      "Agustín\n",
      "Andrés\n",
      "Joaquín\n",
      "André Marty\n",
      "Robert Jordan’s father\n",
      "Robert Jordan’s grandfather\n",
      "Utnapishtim’s Wife\n",
      "Kaysen’s Husband\n",
      "Henry “Hank” Clinton\n",
      "Scarlett O’Hara\n",
      "Gerald O’Hara\n",
      "Ellen O’Hara\n",
      "Suellen O’Hara\n",
      "Carreen O’Hara\n",
      "Abel Magwitch (“The Convict”)\n",
      "Grendel’s mother\n",
      "The Shaper’s assistant\n",
      "Gulliver’s Houyhnhnm master\n",
      "Shower/Cooker and fiancée\n",
      "Alastor “Mad-Eye” Moody\n",
      "Sarah Louise (“Sadie”) Delany (1889–1999)\n",
      "Annie Elizabeth (“Bessie”) Delany (1891–1995)\n",
      "Henry Beard Delany (1858–1928)\n",
      "Nanny James Logan (1861–1956)\n",
      "James Miliam (c.1840–1910)\n",
      "Martha Louise Logan (1842–1908)\n",
      "Lemuel Thackara Delany (1887–1956)\n",
      "Julia Emery Delany (1893–1974)\n",
      "Henry Delany, Jr. (“Hap” or “Harrie”) (1895–1991)\n",
      "Lucius Delany (1897–1969)\n",
      "William Manross Delany (1899–1955)\n",
      "Hubert Thomas Delany (1901–1990)\n",
      "Laura Edith Delany (1903–1993)\n",
      "Samuel Ray Delany (1906–1960)\n",
      "Little Hubie (1933–1943)\n",
      "Laura E. Beard (“Culot”)\n",
      "Jesse Edwards (“Uncle Jesse”)\n",
      "Booker T. Washington (1856? –1915)\n",
      "W. E. B. Du Bois (1868–1963)\n",
      "Paul Robeson (1898–1976)\n",
      "Kurtz’s African mistress\n",
      "Kurtz’s Intended\n",
      "Jürgen Tesman\n",
      "Ejlert Lövborg\n",
      "Alençon\n",
      "René\n",
      "Bastard of Orléans\n",
      "Sayan Kötör\n",
      "Rigoberta’s Younger Sister\n",
      "Rigoberta’s Youngest Sister\n",
      "The “white benefactress”\n",
      "Fra Alberigo and Branca d’Oria\n",
      "Christopher McCandless, a.k.a. “Alexander Supertramp” or “Alex”\n",
      "Samuel Walter “Walt” McCandless\n",
      "Adèle Varens\n",
      "Célianne\n",
      "Lamort’s grandmother\n",
      "Suzette’s mother\n",
      "M. Thénardier\n",
      "Mme. Thénardier\n",
      "Felix Tholomyès\n",
      "María Pérez de Galarraga y Arce\n",
      "Agustín de Carvajal (“The Bishop”)\n",
      "The Half-Indian Woman’s Daughter\n",
      "Captain Esteban Eguiño\n",
      "María Dávalos\n",
      "Gollum (Sméagol)\n",
      "Glóin\n",
      "The Lord of the Nazgûl\n",
      "Gollum (Sméagol)\n",
      "Gríma Wormtongue\n",
      "Théoden\n",
      "Éowyn\n",
      "Éomer\n",
      "The Nazgûl\n",
      "Gríma Wormtongue\n",
      "Gollum (Sméagol)\n",
      "Uglúk\n",
      "Éomer\n",
      "Théoden\n",
      "Éowyn\n",
      "Háma\n",
      "Aunt Escolástica\n",
      "Hildebranda Sánchez\n",
      "América Vicuña\n",
      "Fermina Sánchez\n",
      "Mercadé\n",
      "Lucy’s Father\n",
      "Abbé Bournisien\n",
      "Meridian’s Father\n",
      "Joseph D’Costa\n",
      "Ántonia Shimerda\n",
      "Samson d’Arnault\n",
      "Ma’Shingayi\n",
      "Ruth’s Possible\n",
      "Madame Schächter\n",
      "Béa\n",
      "Walter’s Mother\n",
      "Elizabeth’s Father\n",
      "Curley’s wife\n",
      "Bull’s-eye\n",
      "Monks’s mother\n",
      "José Arcadio Buendía\n",
      "Úrsula Iguarán\n",
      "Colonel Aureliano Buendía\n",
      "José Arcadio\n",
      "Aureliano José\n",
      "Santa Sofía de la Piedad\n",
      "José Arcadio Segundo\n",
      "José Arcadio (II)\n",
      "Amaranta Úrsula\n",
      "Melquíades\n",
      "Colonel Gerineldo Márquez\n",
      "Curley’s wife\n",
      "Paul’s Father\n",
      "Madame L’Espanaye\n",
      "Narrator’s wife\n",
      "Monsieur G——\n",
      "Minister D——\n",
      "Salomé\n",
      "The Slaves of Salomé\n",
      "Frédéric Moreau\n",
      "Siddhartha’s Father\n",
      "Bertilak’s wife\n",
      "Bernhard V. O’Hare\n",
      "Mary O’Hare\n",
      "Gerhard Müller\n",
      "Billy’s mother\n",
      "Billy’s father\n",
      "Sonny’s Friend\n",
      "Hilde Møller Knag\n",
      "The Narrator’s Mother\n",
      "The Narrator’s Father\n",
      "The Narrator’s Brother\n",
      "The “Fake Husband”\n",
      "The “Americans”\n",
      "Aunt Léonie\n",
      "Françoise\n",
      "Alec d’Urberville\n",
      "Mrs. d’Urberville\n",
      "Mary Spirit (Junior’s Sister)\n",
      "Junior’s Dad (Arnold Spirit Sr.)\n",
      "Junior’s Mom (Agnes Adams Spirit)\n",
      "Junior’s Grandmother\n",
      "O’Brien\n",
      "Drancës\n",
      "Andromachë\n",
      "Merchant’s daughter\n",
      "Noémie Nioche\n",
      "Claire de Bellegarde (the Comtesse de Cintré)\n",
      "The Comte de Cintré\n",
      "Adèle Ratignolle\n",
      "Alcée Arobin\n",
      "Léonce Pontellier\n",
      "M’Dear\n",
      "Tommy Müller\n",
      "Margery’s Son\n",
      "Margery’s Daughter-in-Law\n",
      "Alan of Lynn (“Master Aleyn”)\n",
      "Archbishop of Canterbury (“Arundel”)\n",
      "The “Preaching Friar”\n",
      "Julian of Norwich (“Dame Julian”)\n",
      "Unnamed Priest, Margery’s Secretary\n",
      "Richard (“The Broken-Backed Man”)\n",
      "Margery’s Confessor (“Master R,” “Master Robert Spryngolde”)\n",
      "Vicar of St. Stephen’s (“Richard of Caister”)\n",
      "The Nun’s Priest\n",
      "Arthur’s Queen\n",
      "Edmond Dantès\n",
      "Abbé Busoni\n",
      "Mercédès\n",
      "Abbé Faria\n",
      "Gérard de Villefort\n",
      "Louis Dantès\n",
      "Haydée\n",
      "Madame d’Villefort\n",
      "Eugénie Danglars\n",
      "Louise d’Armilly\n",
      "Edward d’Villefort\n",
      "Franz d’Epinay\n",
      "Marquis of Saint-Méran\n",
      "Marquise of Saint-Méran\n",
      "Baron of Château-Renaud\n",
      "Countess G—\n",
      "Christopher’s father (Ed Boone)\n",
      "Christopher’s mother (Judy Boone)\n",
      "Rémy Legaludec\n",
      "Jacques Saunière\n",
      "André Vernet\n",
      "Niels Bohr (1885–1962)\n",
      "Max Born (1882–1970)\n",
      "Prince Louis de Broglie (1892–1987)\n",
      "Sir Arthur Eddington (1882–1944)\n",
      "Albert Einstein (1879–1955)\n",
      "Leonhard Euler (1707–1783)\n",
      "Richard Feynman (1918–1988)\n",
      "Murray Gell-Mann (1929–)\n",
      "Sheldon Glashow (1932–)\n",
      "Samuel Goudsmit (1902–1978)\n",
      "Stephen Hawking (1942–)\n",
      "Werner Heisenberg (1901–1976)\n",
      "Heinrich Hertz (1857–1894)\n",
      "Edwin Hubble (1889–1953)\n",
      "Theodor Kaluza (1885–1954)\n",
      "Oskar Klein (1894–1977)\n",
      "Pierre-Simon de Laplace (1749–1827)\n",
      "James Clerk Maxwell (1831–1879)\n",
      "Max Planck (1858–1947)\n",
      "George Bernhard Riemann (1826–1866)\n",
      "Abdus Salam (1926–1996)\n",
      "Erwin Schrödinger (1887–1961)\n",
      "Karl Schwarzchild (1873–1916)\n",
      "George Uhlenbeck (1900–1988)\n",
      "Steven Weinberg (1933–)\n",
      "Edward Witten (1951–)\n",
      "Thomas Young (1773–1829)\n",
      "Newton’s laws of motion\n",
      "Planck’s constant\n",
      "Almásy\n",
      "Augustus “Gus” Waters\n",
      "Augustus’s parents\n",
      "Gollum (Sméagol)\n",
      "Glóin\n",
      "Hans-Erik Wennerström\n",
      "Jonas’s father\n",
      "Jonas’s mother\n",
      "Jim O’Connor\n",
      "Wang Lung’s father\n",
      "Wang Lung’s uncle\n",
      "The wife of Wang Lung’s uncle\n",
      "The son of Wang Lung’s uncle\n",
      "Wang Lung’s first son\n",
      "Wang Lung’s second son\n",
      "The wife of Wang Lung’s first son\n",
      "The wife of Wang Lung’s second son\n",
      "Wang Lung’s third son\n",
      "Wang Lung’s first daughter\n",
      "Wang Lung’s second daughter\n",
      "Offred’s mother\n",
      "Judge Pyncheon’s son\n",
      "Katniss’s mother\n",
      "Agamemnon (also called “Atrides”)\n",
      "Diomedes (also called “Tydides”)\n",
      "Paris (also known as “Alexander”)\n",
      "Lindo’s mother\n",
      "An-mei’s mother\n",
      "Ying-ying’s Amah\n",
      "The Little Prince’s Echo\n",
      "Célimène\n",
      "Éliante\n",
      "Arsinoé\n",
      "Ashima’s father\n",
      "Ashima’s grandmother\n",
      "Sir Bruce Sans Pitié\n",
      "Juan Tomás\n",
      "Charlie’s brother\n",
      "Charlie’s sister\n",
      "Charlie’s mom\n",
      "Charlie’s dad\n",
      "Charlie’s grandfather\n",
      "Henry’s mother\n",
      "Mme. de Rênal\n",
      "M. de Rênal\n",
      "M. Chélan\n",
      "Fouqué\n",
      "The Lord of the Nazgûl\n",
      "Gollum (Sméagol)\n",
      "Gríma Wormtongue\n",
      "Théoden\n",
      "Éowyn\n",
      "Éomer\n",
      "The Patient’s Mother\n",
      "The Patient’s Worldly\n",
      "Alfred Adler (1870–1930)\n",
      "André Breton (1896–1966)\n",
      "Casanova (1725–1798)\n",
      "Paul Claudel (1868–1955)\n",
      "Colette (1873–1954)\n",
      "Havelock Ellis (1859–1939)\n",
      "Friedrich Engels (1820–1895)\n",
      "Sigmund Freud (1856–1939)\n",
      "Alfred Kinsey (1894–1956)\n",
      "D. H. Lawrence (1885–1930)\n",
      "Katherine Mansfield (1888–1923)\n",
      "Karl Marx (1818–1883)\n",
      "Henri de Montherlant (1896–1972)\n",
      "Rosa Luxemburg (1871–1919)\n",
      "Marie Curie (1867–1934)\n",
      "Otto Rank (1884–1939)\n",
      "Jean-Paul Sartre (1905–1980)\n",
      "Gertrude Stein (1874–1946)\n",
      "Stendhal (1783–1842)\n",
      "Wilhelm Stekel (1868–1940)\n",
      "Emile Zola (1840–1902)\n",
      "Isadora Duncan (1878–1927)\n",
      "Helene Deutsch (1884–1982)\n",
      "Juliette Drouet (1806–1883)\n",
      "Marie Bashkirtsev (1858–1884)\n",
      "Madame de Pompadour (1721–1764)\n",
      "Claude Lévi-Strauss (1908– )\n",
      "St. Catherine of Siena (1347–1380)\n",
      "Kelly (“Skeletor”)\n",
      "Meursault’s Mother\n",
      "Tim O’Brien\n",
      "Bob “Rat” Kiley\n",
      "The Children’s Uncle\n",
      "The Nazgûl\n",
      "Gríma Wormtongue\n",
      "Gollum (Sméagol)\n",
      "Uglúk\n",
      "Éomer\n",
      "Théoden\n",
      "Éowyn\n",
      "Háma\n",
      "John’s cardiologist\n",
      "Macalister’s boy\n",
      "Hugh (“Blazes”) Boylan\n",
      "Josie (née Powell) and Denis Breen\n",
      "Episode Twelve’s Nameless Narrator\n",
      "J. J. O’Molloy\n",
      "Ivan Petrovich Voynitsky (Vanya) (iván/ványa petróvich vaynítsky)\n",
      "Alexandr Vladimirovich Serebryakov (vladímiravich serebryakóv)\n",
      "Yelena Andreevna (yeléna andréevna)\n",
      "Mikhail Lvovich Astrov (mikhaíl lvóvich ástraf)\n",
      "Sofya Alexandrovna (Sonya) (sófya/sónya alexándravna)\n",
      "Maria Vasilevna Voynitskaya (mária vasílevna vaynítskaya)\n",
      "Ilya Ilich Telegin (ilyá ilích telégin)\n",
      "Marina Timofeevna (marína timaféevna)\n",
      "Connie’s Mother\n",
      "Firdaus’s Uncle\n",
      "Di’aa\n"
     ]
    }
   ],
   "source": [
    "for ch in character_list:\n",
    "    try:\n",
    "        str(ch)\n",
    "    except:\n",
    "        print(ch)\n"
   ]
  },
  {
   "cell_type": "code",
   "execution_count": 8,
   "metadata": {
    "collapsed": false
   },
   "outputs": [],
   "source": [
    "def word_count(text):\n",
    "    return len(re.findall(r'\\w+', text))\n",
    "\n",
    "def character_count(book):\n",
    "    return len(book['characters'])\n",
    "\n",
    "def data_summary(books):\n",
    "    print(\"There are {} books. \".format(len(books)))\n",
    "    print(\"Average length of the summary is . \".format(len(books)))\n",
    "\n",
    "def choose_k(input_list,k):\n",
    "    n = len(input_list)\n",
    "    def choose_range(n, k):\n",
    "        if k == n:\n",
    "            return [input_list]\n",
    "        elif k == 0:\n",
    "            return [[]]\n",
    "        elif k == 1:\n",
    "            return [[(i,input_list[i])] for i in xrange(len(input_list))]\n",
    "        result = []\n",
    "        for lst in choose_range(n-1, k-1):\n",
    "            result.extend(lst + [(i,input_list[i])] for i in range(lst[-1][0] + 1, n))\n",
    "        return result\n",
    "    res = choose_range(n,k)\n",
    "    return [[x[1] for x in items] for items in res]\n",
    "    "
   ]
  },
  {
   "cell_type": "code",
   "execution_count": 9,
   "metadata": {
    "collapsed": false
   },
   "outputs": [],
   "source": [
    "word_count_all = [word_count(books[i]['summary']) for i in xrange(len(books))]\n",
    "character_count = [character_count(books[i]) for i in xrange(len(books))]\n"
   ]
  },
  {
   "cell_type": "code",
   "execution_count": 10,
   "metadata": {
    "collapsed": false
   },
   "outputs": [
    {
     "data": {
      "text/plain": [
       "(array([  19.,  116.,  301.,  104.,   26.,    9.,    5.,    1.,    1.,    2.]),\n",
       " array([    0. ,   355.2,   710.4,  1065.6,  1420.8,  1776. ,  2131.2,\n",
       "         2486.4,  2841.6,  3196.8,  3552. ]),\n",
       " <a list of 10 Patch objects>)"
      ]
     },
     "execution_count": 10,
     "metadata": {},
     "output_type": "execute_result"
    },
    {
     "data": {
      "image/png": "[encoded data removed]",
      "text/plain": [
       "<matplotlib.figure.Figure at 0x10d03f890>"
      ]
     },
     "metadata": {},
     "output_type": "display_data"
    }
   ],
   "source": [
    "plt.title('Histogram for len of books')\n",
    "plt.hist(word_count_all)"
   ]
  },
  {
   "cell_type": "code",
   "execution_count": 11,
   "metadata": {
    "collapsed": false,
    "scrolled": true
   },
   "outputs": [
    {
     "data": {
      "text/plain": [
       "(array([  71.,  180.,  212.,   69.,   29.,    9.,    7.,    5.,    1.,    1.]),\n",
       " array([  0. ,   7.5,  15. ,  22.5,  30. ,  37.5,  45. ,  52.5,  60. ,\n",
       "         67.5,  75. ]),\n",
       " <a list of 10 Patch objects>)"
      ]
     },
     "execution_count": 11,
     "metadata": {},
     "output_type": "execute_result"
    },
    {
     "data": {
      "image/png": "[encoded data removed]",
      "text/plain": [
       "<matplotlib.figure.Figure at 0x10f537b10>"
      ]
     },
     "metadata": {},
     "output_type": "display_data"
    }
   ],
   "source": [
    "plt.title('Histogram for number of characters')\n",
    "plt.hist(character_count)"
   ]
  },
  {
   "cell_type": "code",
   "execution_count": 12,
   "metadata": {
    "collapsed": false
   },
   "outputs": [
    {
     "data": {
      "text/plain": [
       "[['a', 'b', 'c'],\n",
       " ['a', 'b', 'd'],\n",
       " ['a', 'b', 'e'],\n",
       " ['a', 'c', 'd'],\n",
       " ['a', 'c', 'e'],\n",
       " ['a', 'd', 'e'],\n",
       " ['b', 'c', 'd'],\n",
       " ['b', 'c', 'e'],\n",
       " ['b', 'd', 'e'],\n",
       " ['c', 'd', 'e']]"
      ]
     },
     "execution_count": 12,
     "metadata": {},
     "output_type": "execute_result"
    }
   ],
   "source": [
    "def choose_k(input_list,k):\n",
    "    n = len(input_list)\n",
    "    def choose_range(n, k):\n",
    "        if k == n:\n",
    "            return [input_list]\n",
    "        elif k == 0:\n",
    "            return [[]]\n",
    "        elif k == 1:\n",
    "            return [[(i,input_list[i])] for i in xrange(len(input_list))]\n",
    "        result = []\n",
    "        for lst in choose_range(n-1, k-1):\n",
    "            result.extend(lst + [(i,input_list[i])] for i in range(lst[-1][0] + 1, n))\n",
    "        return result\n",
    "    res = choose_range(n,k)\n",
    "    return [[x[1] for x in items] for items in res]\n",
    "\n",
    "choose_k(['a','b','c','d','e'],3)"
   ]
  },
  {
   "cell_type": "code",
   "execution_count": 13,
   "metadata": {
    "collapsed": true
   },
   "outputs": [],
   "source": [
    "book = books[0]\n",
    "pairs = choose_k([ch[0] for ch in book['characters']],2)\n",
    "text = book['summary']"
   ]
  },
  {
   "cell_type": "code",
   "execution_count": 14,
   "metadata": {
    "collapsed": false
   },
   "outputs": [
    {
     "data": {
      "text/plain": [
       "[[u'Winston Smith', u'Julia'],\n",
       " [u'Winston Smith', u'O\\u2019Brien'],\n",
       " [u'Winston Smith', u'Big Brother'],\n",
       " [u'Winston Smith', u'Mr. Charrington'],\n",
       " [u'Winston Smith', u'Syme'],\n",
       " [u'Winston Smith', u'Parsons'],\n",
       " [u'Winston Smith', u'Emmanuel Goldstein'],\n",
       " [u'Julia', u'O\\u2019Brien'],\n",
       " [u'Julia', u'Big Brother'],\n",
       " [u'Julia', u'Mr. Charrington'],\n",
       " [u'Julia', u'Syme'],\n",
       " [u'Julia', u'Parsons'],\n",
       " [u'Julia', u'Emmanuel Goldstein'],\n",
       " [u'O\\u2019Brien', u'Big Brother'],\n",
       " [u'O\\u2019Brien', u'Mr. Charrington'],\n",
       " [u'O\\u2019Brien', u'Syme'],\n",
       " [u'O\\u2019Brien', u'Parsons'],\n",
       " [u'O\\u2019Brien', u'Emmanuel Goldstein'],\n",
       " [u'Big Brother', u'Mr. Charrington'],\n",
       " [u'Big Brother', u'Syme'],\n",
       " [u'Big Brother', u'Parsons'],\n",
       " [u'Big Brother', u'Emmanuel Goldstein'],\n",
       " [u'Mr. Charrington', u'Syme'],\n",
       " [u'Mr. Charrington', u'Parsons'],\n",
       " [u'Mr. Charrington', u'Emmanuel Goldstein'],\n",
       " [u'Syme', u'Parsons'],\n",
       " [u'Syme', u'Emmanuel Goldstein'],\n",
       " [u'Parsons', u'Emmanuel Goldstein']]"
      ]
     },
     "execution_count": 14,
     "metadata": {},
     "output_type": "execute_result"
    }
   ],
   "source": [
    "pairs"
   ]
  },
  {
   "cell_type": "code",
   "execution_count": 7,
   "metadata": {
    "collapsed": false,
    "scrolled": true
   },
   "outputs": [],
   "source": [
    "from nltk.tag import StanfordNERTagger\n",
    "\n",
    "# st = StanfordNERTagger('/Users/codehi/tools/StanfordParser/stanford-ner-2016-10-31/classifiers/english.all.3class.distsim.crf.ser.gz',\n",
    "#                '/Users/codehi/tools/StanfordParser/stanford-ner-2016-10-31/stanford-ner.jar') \n",
    "\n",
    "st = StanfordNERTagger('english.all.3class.distsim.crf.ser.gz')#\n",
    "#r'/Users/codehi/Projects/Galvanize/Capstone/tools/stanford-english-corenlp-2016-10-31-models.jar') \n",
    "# st = POSTagger(r'english-bidirectional-distim.tagger',r'/Users/codehi/Projects/Galvanize/Capstone/tools/stanford-english-corenlp-2016-10-31-models.jar')\n"
   ]
  },
  {
   "cell_type": "code",
   "execution_count": 17,
   "metadata": {
    "collapsed": false
   },
   "outputs": [
    {
     "name": "stdout",
     "output_type": "stream",
     "text": [
      "(u'They', 500, u'they', 445, u'PRP', 92, u'PRON')\n",
      "(u'told', 750, u'tell', 455, u'VBD', 97, u'VERB')\n",
      "(u'us', 694, u'us', 445, u'PRP', 92, u'PRON')\n",
      "(u'to', 468, u'to', 452, u'TO', 91, u'PART')\n",
      "(u'duck', 5792, u'duck', 454, u'VB', 97, u'VERB')\n",
      "(u'.', 419, u'.', 419, u'.', 94, u'PUNCT')\n"
     ]
    }
   ],
   "source": [
    "import spacy\n",
    "nlp = spacy.load('en')\n",
    "doc = nlp(u'They told us to duck.')\n",
    "for word in doc:\n",
    "    print(word.text, word.lemma, word.lemma_, word.tag, word.tag_, word.pos, word.pos_)"
   ]
  },
  {
   "cell_type": "code",
   "execution_count": 18,
   "metadata": {
    "collapsed": false
   },
   "outputs": [
    {
     "name": "stdout",
     "output_type": "stream",
     "text": [
      "(u'PERSON', u'Rami Eid')\n",
      "(u'ORG', u'Stony Brook University')\n",
      "(u'GPE', u'New York')\n"
     ]
    }
   ],
   "source": [
    "doc = nlp(u'Rami Eid is studying at Stony Brook University in New York.')\n",
    "for ent in doc.ents:\n",
    "    print(ent.label_, ent.text)"
   ]
  },
  {
   "cell_type": "code",
   "execution_count": 19,
   "metadata": {
    "collapsed": false
   },
   "outputs": [
    {
     "name": "stdout",
     "output_type": "stream",
     "text": [
      "(u'Rami', u'rami', u'NNP', u'PROPN')\n",
      "(u'Eid', u'eid', u'NNP', u'PROPN')\n",
      "(u'is', u'be', u'VBZ', u'VERB')\n",
      "(u'studying', u'study', u'VBG', u'VERB')\n",
      "(u'at', u'at', u'IN', u'ADP')\n",
      "(u'Stony', u'stony', u'NNP', u'PROPN')\n",
      "(u'Brook', u'brook', u'NNP', u'PROPN')\n",
      "(u'University', u'university', u'NNP', u'PROPN')\n",
      "(u'in', u'in', u'IN', u'ADP')\n",
      "(u'New', u'new', u'NNP', u'PROPN')\n",
      "(u'York', u'york', u'NNP', u'PROPN')\n",
      "(u'.', u'.', u'.', u'PUNCT')\n"
     ]
    }
   ],
   "source": [
    "for word in doc:\n",
    "    print(word.text,  word.lemma_, word.tag_, word.pos_)"
   ]
  },
  {
   "cell_type": "code",
   "execution_count": 20,
   "metadata": {
    "collapsed": false
   },
   "outputs": [
    {
     "ename": "NameError",
     "evalue": "name 's1' is not defined",
     "output_type": "error",
     "traceback": [
      "\u001b[0;31m---------------------------------------------------------------------------\u001b[0m",
      "\u001b[0;31mNameError\u001b[0m                                 Traceback (most recent call last)",
      "\u001b[0;32m<ipython-input-20-fa0fe56f82c3>\u001b[0m in \u001b[0;36m<module>\u001b[0;34m()\u001b[0m\n\u001b[0;32m----> 1\u001b[0;31m \u001b[0ms1\u001b[0m\u001b[0;34m[\u001b[0m\u001b[0;34m'id'\u001b[0m\u001b[0;34m]\u001b[0m\u001b[0;34m\u001b[0m\u001b[0m\n\u001b[0m",
      "\u001b[0;31mNameError\u001b[0m: name 's1' is not defined"
     ]
    }
   ],
   "source": [
    "s1['id']"
   ]
  },
  {
   "cell_type": "code",
   "execution_count": 37,
   "metadata": {
    "collapsed": false
   },
   "outputs": [],
   "source": [
    "# for sent in sent_tokenize(text):\n",
    "#     doc = nlp(sent)\n",
    "#     for ent in doc.ents:\n",
    "#         if ent.label_ == 'PERSON':\n",
    "#             print(ent.text)\n",
    "#     print "
   ]
  },
  {
   "cell_type": "code",
   "execution_count": 2,
   "metadata": {
    "collapsed": false
   },
   "outputs": [],
   "source": [
    "import re"
   ]
  },
  {
   "cell_type": "code",
   "execution_count": 66,
   "metadata": {
    "collapsed": false
   },
   "outputs": [],
   "source": [
    "# search_go_to = set([\"go\", \"to\"])\n",
    "# m = ' .*? '.join(x for x in search_go_to)\n",
    "# words = set([\"I go over to\", \"go up to\", \"foo bar\"])\n",
    "# matches = [s for s in words if re.search(m, s)]\n",
    "# print(matches)\n"
   ]
  },
  {
   "cell_type": "code",
   "execution_count": 6,
   "metadata": {
    "collapsed": false
   },
   "outputs": [
    {
     "ename": "ImportError",
     "evalue": "No module named 'annotated_text'",
     "output_type": "error",
     "traceback": [
      "\u001b[0;31m---------------------------------------------------------------------------\u001b[0m",
      "\u001b[0;31mImportError\u001b[0m                               Traceback (most recent call last)",
      "\u001b[0;32m<ipython-input-6-d34fa4c2bd96>\u001b[0m in \u001b[0;36m<module>\u001b[0;34m()\u001b[0m\n\u001b[0;32m----> 1\u001b[0;31m \u001b[0;32mfrom\u001b[0m \u001b[0mcorenlp_xml_reader\u001b[0m \u001b[0;32mimport\u001b[0m \u001b[0mAnnotatedText\u001b[0m \u001b[0;32mas\u001b[0m \u001b[0mA\u001b[0m\u001b[0;34m\u001b[0m\u001b[0m\n\u001b[0m\u001b[1;32m      2\u001b[0m \u001b[0;32mfrom\u001b[0m \u001b[0mlxml\u001b[0m \u001b[0;32mimport\u001b[0m \u001b[0mhtml\u001b[0m\u001b[0;34m\u001b[0m\u001b[0m\n\u001b[1;32m      3\u001b[0m \u001b[0;32mfrom\u001b[0m \u001b[0mcollections\u001b[0m \u001b[0;32mimport\u001b[0m \u001b[0mdefaultdict\u001b[0m\u001b[0;34m\u001b[0m\u001b[0m\n\u001b[1;32m      4\u001b[0m \u001b[0;32mimport\u001b[0m \u001b[0mnetworkx\u001b[0m \u001b[0;32mas\u001b[0m \u001b[0mnx\u001b[0m\u001b[0;34m\u001b[0m\u001b[0m\n\u001b[1;32m      5\u001b[0m \u001b[0;32mimport\u001b[0m \u001b[0mnxpd\u001b[0m\u001b[0;34m\u001b[0m\u001b[0m\n",
      "\u001b[0;32m/Users/codehi/Documents/software/Anaconda/anaconda/envs/IntroToTensorFlow/lib/python3.5/site-packages/corenlp_xml_reader/__init__.py\u001b[0m in \u001b[0;36m<module>\u001b[0;34m()\u001b[0m\n\u001b[0;32m----> 1\u001b[0;31m \u001b[0;32mfrom\u001b[0m \u001b[0mannotated_text\u001b[0m \u001b[0;32mimport\u001b[0m \u001b[0mAnnotatedText\u001b[0m\u001b[0;34m,\u001b[0m \u001b[0mToken\u001b[0m\u001b[0;34m,\u001b[0m \u001b[0mSentence\u001b[0m\u001b[0;34m\u001b[0m\u001b[0m\n\u001b[0m",
      "\u001b[0;31mImportError\u001b[0m: No module named 'annotated_text'"
     ]
    }
   ],
   "source": [
    "from corenlp_xml_reader import AnnotatedText as A\n",
    "from lxml import html\n",
    "from collections import defaultdict\n",
    "import networkx as nx\n",
    "import nxpd\n",
    "import numpy as np"
   ]
  },
  {
   "cell_type": "code",
   "execution_count": 3,
   "metadata": {
    "collapsed": true
   },
   "outputs": [],
   "source": [
    "import spacy"
   ]
  },
  {
   "cell_type": "code",
   "execution_count": 4,
   "metadata": {
    "collapsed": false
   },
   "outputs": [],
   "source": [
    "import textacy\n"
   ]
  },
  {
   "cell_type": "code",
   "execution_count": 5,
   "metadata": {
    "collapsed": false
   },
   "outputs": [
    {
     "data": {
      "text/plain": [
       "Corpus(1241 docs; 857839 tokens)"
      ]
     },
     "execution_count": 5,
     "metadata": {},
     "output_type": "execute_result"
    }
   ],
   "source": [
    "cw = textacy.corpora.CapitolWords()\n",
    "docs = cw.records(speaker_name={'Hillary Clinton', 'Barack Obama'})\n",
    "content_stream, metadata_stream = textacy.fileio.split_record_fields( docs, 'text')\n",
    "corpus = textacy.Corpus('en', texts=content_stream, metadatas=metadata_stream)\n",
    "corpus"
   ]
  },
  {
   "cell_type": "code",
   "execution_count": 13,
   "metadata": {
    "collapsed": false
   },
   "outputs": [
    {
     "ename": "NameError",
     "evalue": "name 'corpus' is not defined",
     "output_type": "error",
     "traceback": [
      "\u001b[0;31m---------------------------------------------------------------------------\u001b[0m",
      "\u001b[0;31mNameError\u001b[0m                                 Traceback (most recent call last)",
      "\u001b[0;32m<ipython-input-13-f1119c9aec28>\u001b[0m in \u001b[0;36m<module>\u001b[0;34m()\u001b[0m\n\u001b[1;32m      1\u001b[0m doc_term_matrix, id2term = textacy.vsm.doc_term_matrix(\n\u001b[1;32m      2\u001b[0m     (doc.to_terms_list(ngrams=1, named_entities=True, as_strings=True)\n\u001b[0;32m----> 3\u001b[0;31m      for doc in corpus),\n\u001b[0m\u001b[1;32m      4\u001b[0m     weighting='tfidf', normalize=True, smooth_idf=True, min_df=2, max_df=0.95)\n\u001b[1;32m      5\u001b[0m \u001b[0mprint\u001b[0m\u001b[0;34m(\u001b[0m\u001b[0mrepr\u001b[0m\u001b[0;34m(\u001b[0m\u001b[0mdoc_term_matrix\u001b[0m\u001b[0;34m)\u001b[0m\u001b[0;34m)\u001b[0m\u001b[0;34m\u001b[0m\u001b[0m\n",
      "\u001b[0;31mNameError\u001b[0m: name 'corpus' is not defined"
     ]
    }
   ],
   "source": [
    ">>> doc_term_matrix, id2term = textacy.vsm.doc_term_matrix(\n",
    "...     (doc.to_terms_list(ngrams=1, named_entities=True, as_strings=True)\n",
    "...      for doc in corpus),\n",
    "...     weighting='tfidf', normalize=True, smooth_idf=True, min_df=2, max_df=0.95)\n",
    ">>> print(repr(doc_term_matrix))"
   ]
  },
  {
   "cell_type": "code",
   "execution_count": null,
   "metadata": {
    "collapsed": true
   },
   "outputs": [],
   "source": []
  },
  {
   "cell_type": "code",
   "execution_count": 105,
   "metadata": {
    "collapsed": true
   },
   "outputs": [],
   "source": [
    "def sentence_out(sent):\n",
    "    return ' '.join([w['word'] for w in sent['tokens']])\n",
    "\n",
    "\n",
    "def co_occurence(doc):\n",
    "    pair_sent = defaultdict(list)\n",
    "    for sentence in doc.sentences:\n",
    "\n",
    "        curr_name = []\n",
    "        prev_ner = None\n",
    "        for ent in sentence['tokens']:\n",
    "            if ent['ner'] == 'PERSON':\n",
    "                name = ent['word']\n",
    "                size = len(name)\n",
    "                if not prev_ner or prev_ner == name:\n",
    "                    prev_ner = name\n",
    "                else:\n",
    "                    prev_ner += ' ' + name\n",
    "            else:\n",
    "                if prev_ner:\n",
    "                    curr_name.append(prev_ner)\n",
    "                prev_ner = None\n",
    "        if prev_ner:\n",
    "            curr_name.append(prev_ner)\n",
    "            \n",
    "        if curr_name:\n",
    "            pair = []\n",
    "            prev = None\n",
    "            for name_ in curr_name:\n",
    "                if (not prev or prev!=name_) and len(pair)<2:\n",
    "                    pair.append(name_)\n",
    "                    prev = name_\n",
    "            pair = tuple(sorted(pair))\n",
    "            \n",
    "        if len(pair)==2:\n",
    "            pair_sent[pair].append((sentence_out(sentence),sentiment[sentence['id']]))\n",
    "    return pair_sent\n",
    "\n",
    "def xml_analysis(xml_file,limit = 1):\n",
    "    translate = {'Verynegative':-2, 'Negative':-1,'Positive':1,'Verypostive':2,'Neutral':0}\n",
    "    xml = open(xml_file).read()\n",
    "    annotated_text = A(xml)\n",
    "    \n",
    "    tree = html.fromstring(xml)\n",
    "    sentiment = tree.xpath('//sentence/@sentiment')\n",
    "    sentiment = [translate[key] for key in sentiment]\n",
    "\n",
    "    pair_dict =co_occurence(annotated_text)\n",
    "    \n",
    "    avg_sent = lambda x:np.mean([y[1] for y in x])\n",
    "\n",
    "    G = nx.Graph()\n",
    "    for key,value in pair_dict.iteritems():\n",
    "        appear = len(value)\n",
    "        if appear>limit:\n",
    "            G.add_edge(key[0],key[1], label='Connect:{},Sentiment:{}'.format(appear,avg_sent(value) ))\n",
    "    \n",
    "#     nxpd.draw(G, show='ipynb')\n",
    "    \n",
    "    return G"
   ]
  },
  {
   "cell_type": "code",
   "execution_count": null,
   "metadata": {
    "collapsed": true
   },
   "outputs": [],
   "source": []
  },
  {
   "cell_type": "code",
   "execution_count": 106,
   "metadata": {
    "collapsed": false
   },
   "outputs": [
    {
     "name": "stdout",
     "output_type": "stream",
     "text": [
      "2017-03-23 13:20:20.600 dot[1337:31914428] XType: failed to connect - Error Domain=NSCocoaErrorDomain Code=4099 \"The connection to service named com.apple.fonts was invalidated.\" UserInfo={NSDebugDescription=The connection to service named com.apple.fonts was invalidated.}\n",
      "2017-03-23 13:20:20.600 dot[1337:31914428] Font server protocol version mismatch (expected:5 got:0), falling back to local fonts\n",
      "2017-03-23 13:20:20.601 dot[1337:31914428] XType: unable to make a connection to the font daemon!\n",
      "2017-03-23 13:20:20.601 dot[1337:31914428] registering /System/Library/Fonts/*, /System/Library/Fonts/Base/*, and /Library/Fonts/* locally\n",
      "\n"
     ]
    },
    {
     "data": {
      "image/png": "[encoded data removed]",
      "text/plain": [
       "<IPython.core.display.Image object>"
      ]
     },
     "execution_count": 106,
     "metadata": {},
     "output_type": "execute_result"
    }
   ],
   "source": [
    "G = xml_analysis('../data/summary-tag/1.1984_tag.txt.xml')\n",
    "nxpd.draw(G, show='ipynb')\n"
   ]
  },
  {
   "cell_type": "code",
   "execution_count": null,
   "metadata": {
    "collapsed": false
   },
   "outputs": [],
   "source": [
    "G = xml_analysis('../data/summary-tag/1.1984_full_tag.txt.xml',5)\n",
    "nxpd.draw(G, show='ipynb')\n"
   ]
  },
  {
   "cell_type": "code",
   "execution_count": null,
   "metadata": {
    "collapsed": true
   },
   "outputs": [],
   "source": []
  },
  {
   "cell_type": "code",
   "execution_count": null,
   "metadata": {
    "collapsed": true
   },
   "outputs": [],
   "source": []
  }
 ],
 "metadata": {
  "anaconda-cloud": {},
  "kernelspec": {
   "display_name": "Python [conda env:IntroToTensorFlow]",
   "language": "python",
   "name": "conda-env-IntroToTensorFlow-py"
  },
  "language_info": {
   "codemirror_mode": {
    "name": "ipython",
    "version": 3
   },
   "file_extension": ".py",
   "mimetype": "text/x-python",
   "name": "python",
   "nbconvert_exporter": "python",
   "pygments_lexer": "ipython3",
   "version": "3.5.2"
  }
 },
 "nbformat": 4,
 "nbformat_minor": 0
}
