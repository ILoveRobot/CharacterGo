{
 "cells": [
  {
   "cell_type": "code",
   "execution_count": null,
   "metadata": {
    "collapsed": true
   },
   "outputs": [],
   "source": [
    "import spacy\n",
    "import pandas as pd\n",
    "import numpy as np\n",
    "import json\n",
    "import pickle\n",
    "from collections import OrderedDict\n",
    "import re\n",
    "import matplotlib.pyplot as plt\n",
    "import seaborn as sns\n",
    "%matplotlib inline"
   ]
  },
  {
   "cell_type": "code",
   "execution_count": null,
   "metadata": {
    "collapsed": true
   },
   "outputs": [],
   "source": [
    "family = ['father','mother','aunt','wife','daughter','sibling','twin','family','heir','ancestor',\n",
    "          'brother','uncle','sister','niece','grand','cousin','adopt','relat','nephew','son','child','divorce']\n",
    "friend = ['friend','playmate','widow','frien']\n",
    "romance = ['ex','lover','love','girlfriend','attraction','boyfriend','affair','engage',\n",
    "          'fiance','crush','date','sweet','partner','couple','flirt','marr']\n",
    "enemy = ['enem','victim','traitor','compet','parties','riv','dislike','foe','death','counter',\n",
    "         'murder','accuse','duel','conflicts','hate','foil','opposition','disguise','kill']\n",
    "acquaintance = ['acqua','coworker','student','prof','pup','roommate','school','work','host','housemates','companion',\n",
    "               'neighbor','roomate','wizard','ally','allies','flatmate','mate','group','miss','member','peasant',\n",
    "               'coll','train','comrade','land']\n",
    "service = ['fellow','assist','doctor','detect','devil','master','mistress','slave','rule','henchman',\n",
    "           'employer','serv','lead','law','king','prison',',coach','proph','resear','edit','ward',\n",
    "           'cook','sale','officer','boss','office','lord','emperor','interview','chief','support','advis',\n",
    "          'nurse','man','owner','mentor','benef','manager','ruler','starbuck','super','tetrarch','tour',\n",
    "          'counsel','judge','merchant','employ','flower','general','warder','house','soldier','maid','major','help',\n",
    "           'patient','cook','ward','business','bank','tenant','keeper','captain','tutor','keeper','actor','buy','lend',\n",
    "          'porter','caller','scout','hire','protect','guide','attorney','coach','caretaker','associate','advers',\n",
    "          'interrogator','harpooner','henchman']\n",
    "label_dict = OrderedDict([('enemy',enemy),('romance',romance),('family',family),('friend',friend),\n",
    "                         ('acquaintance',acquaintance),('service',service)])\n",
    "\n",
    "def clean_label(label):\n",
    "    for key,value in label_dict.iteritems():\n",
    "        for v in value:\n",
    "            if re.search(v,label):\n",
    "                return key\n",
    "    return 'ambiguous'\n",
    "\n",
    "def clean_all(label_dict):\n",
    "    for key in label_dict:\n",
    "        for pair in label_dict[key]:\n",
    "            label_dict[key][pair] = clean_label(label_dict[key][pair])\n",
    "    return label_dict"
   ]
  },
  {
   "cell_type": "code",
   "execution_count": null,
   "metadata": {
    "collapsed": true
   },
   "outputs": [],
   "source": [
    "def unpack(lst):\n",
    "    return ' '.join([i[0] for i in lst]), [i[1] for i in lst]\n",
    "\n",
    "def parse_pair_name(pair):\n",
    "        pair_parse = [probablepeople.tag(i)[0] for i in pair]\n",
    "        pair_parse = [(i['GivenName'].strip() if 'GivenName' in i else '',\n",
    "                      i['Surname'].strip() if 'Surname' in i else '') for i in pair_parse]\n",
    "        return pair_parse\n",
    "\n",
    "def match_pairs_one(sentences,labels):\n",
    "    total = 0\n",
    "    success = 0\n",
    "    for pair in sentences:\n",
    "        total += 1\n",
    "        pair_tmp = (i.lower().strip() for i in pair)\n",
    "        relation = []\n",
    "        # 1. exact match\n",
    "        for label_pair in labels:\n",
    "            if pair_tmp == label_pair:\n",
    "                success += 1\n",
    "                sentences[pair] = [sentence[pair],labels[label_pair]]\n",
    "                break\n",
    "        # 2. match first and last name\n",
    "        try:\n",
    "            pair_parse = parse_pair_name(pair_tmp)\n",
    "            for label_pair in labels:\n",
    "                label_pair_parse = parse_pair_name(label_pair)\n",
    "                if label_pair_parse == pair_parse or label_pair_parse[0] == pair_parse[0] or label_pair_parse[1] == pair_parse[1]:\n",
    "#                     print \"Matched: {} == {}\".format(pair_parse,label_pair_parse)\n",
    "                    success += 1\n",
    "                    relation.append(labels[label_pair])\n",
    "                    break\n",
    "        except:\n",
    "            pass\n",
    "        if not relation:\n",
    "#             print \"Unmatched: {} != {}\".format(pair_parse,label_pair_parse)\n",
    "\n",
    "#         sentences[pair] = list(unpack(sentences[pair])) + [relation if relation else ['ambiguous']]\n",
    "\n",
    "    print 'Total:{}, Match:{}'.format(total,success)\n",
    "#     return sentences\n",
    "\n",
    "def match_pairs_all(sentences_all,labels_all):\n",
    "    new_dict = {}\n",
    "    for i in sentences_all:\n",
    "        if i in labels_all:\n",
    "            new_dict[i] = match_pairs_one(sentences_all[i],labels_all[i])\n",
    "    return new_dict\n"
   ]
  },
  {
   "cell_type": "code",
   "execution_count": null,
   "metadata": {
    "collapsed": true
   },
   "outputs": [],
   "source": []
  }
 ],
 "metadata": {
  "kernelspec": {
   "display_name": "Python 2",
   "language": "python",
   "name": "python2"
  },
  "language_info": {
   "codemirror_mode": {
    "name": "ipython",
    "version": 2
   },
   "file_extension": ".py",
   "mimetype": "text/x-python",
   "name": "python",
   "nbconvert_exporter": "python",
   "pygments_lexer": "ipython2",
   "version": "2.7.13"
  }
 },
 "nbformat": 4,
 "nbformat_minor": 2
}
