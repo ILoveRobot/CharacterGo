{
 "cells": [
  {
   "cell_type": "code",
   "execution_count": 2,
   "metadata": {
    "collapsed": false
   },
   "outputs": [
    {
     "ename": "ImportError",
     "evalue": "No module named builtins",
     "output_type": "error",
     "traceback": [
      "\u001b[0;31m---------------------------------------------------------------------------\u001b[0m",
      "\u001b[0;31mImportError\u001b[0m                               Traceback (most recent call last)",
      "\u001b[0;32m<ipython-input-2-0b53e6545e71>\u001b[0m in \u001b[0;36m<module>\u001b[0;34m()\u001b[0m\n\u001b[1;32m      6\u001b[0m \u001b[0;32mfrom\u001b[0m \u001b[0mcollections\u001b[0m \u001b[0;32mimport\u001b[0m \u001b[0mOrderedDict\u001b[0m\u001b[0;34m\u001b[0m\u001b[0m\n\u001b[1;32m      7\u001b[0m \u001b[0;32mimport\u001b[0m \u001b[0mre\u001b[0m\u001b[0;34m\u001b[0m\u001b[0m\n\u001b[0;32m----> 8\u001b[0;31m \u001b[0;32mimport\u001b[0m \u001b[0mprobablepeople\u001b[0m \u001b[0;32mas\u001b[0m \u001b[0mpp\u001b[0m\u001b[0;34m\u001b[0m\u001b[0m\n\u001b[0m\u001b[1;32m      9\u001b[0m \u001b[0mname_str\u001b[0m\u001b[0;34m=\u001b[0m\u001b[0;34m'Mr George \"Gob\" Bluth II'\u001b[0m\u001b[0;34m\u001b[0m\u001b[0m\n\u001b[1;32m     10\u001b[0m \u001b[0mcorp_str\u001b[0m\u001b[0;34m=\u001b[0m\u001b[0;34m'Sitwell Housing Inc'\u001b[0m\u001b[0;34m\u001b[0m\u001b[0m\n",
      "\u001b[0;32m/Users/codehi/Documents/software/Anaconda/anaconda/lib/python2.7/site-packages/probablepeople/__init__.py\u001b[0m in \u001b[0;36m<module>\u001b[0;34m()\u001b[0m\n\u001b[1;32m      3\u001b[0m \u001b[0;34m\u001b[0m\u001b[0m\n\u001b[1;32m      4\u001b[0m \u001b[0;32mfrom\u001b[0m \u001b[0m__future__\u001b[0m \u001b[0;32mimport\u001b[0m \u001b[0mdivision\u001b[0m\u001b[0;34m\u001b[0m\u001b[0m\n\u001b[0;32m----> 5\u001b[0;31m \u001b[0;32mfrom\u001b[0m \u001b[0mbuiltins\u001b[0m \u001b[0;32mimport\u001b[0m \u001b[0mzip\u001b[0m\u001b[0;34m\u001b[0m\u001b[0m\n\u001b[0m\u001b[1;32m      6\u001b[0m \u001b[0;32mfrom\u001b[0m \u001b[0mbuiltins\u001b[0m \u001b[0;32mimport\u001b[0m \u001b[0mrange\u001b[0m\u001b[0;34m\u001b[0m\u001b[0m\n\u001b[1;32m      7\u001b[0m \u001b[0;32mfrom\u001b[0m \u001b[0mpast\u001b[0m\u001b[0;34m.\u001b[0m\u001b[0mutils\u001b[0m \u001b[0;32mimport\u001b[0m \u001b[0mold_div\u001b[0m\u001b[0;34m\u001b[0m\u001b[0m\n",
      "\u001b[0;31mImportError\u001b[0m: No module named builtins"
     ]
    }
   ],
   "source": [
    "import spacy\n",
    "import pandas as pd\n",
    "import numpy as np\n",
    "import json\n",
    "import pickle\n",
    "from collections import OrderedDict\n",
    "import re\n",
    "import probablepeople as pp\n",
    "name_str='Mr George \"Gob\" Bluth II'\n",
    "corp_str='Sitwell Housing Inc'\n",
    "\n",
    "# The parse method will split your string into components, and label each component.\n",
    "pp.parse(name_str) # expected output: [('Mr', 'PrefixMarital'), ('George', 'GivenName'), ('\"Gob\"', 'Nickname'), ('Bluth', 'Surname'), ('II', 'SuffixGenerational')]\n",
    "pp.parse(corp_str) # expected output: [('Sitwell', 'CorporationName'), ('Housing', 'CorporationName'), ('Inc', 'CorporationLegalType')]\n",
    "\n",
    "# The tag method will try to be a little smarter\n",
    "# it will merge consecutive components, strip commas, & return a string type\n",
    "pp.tag(name_str) # expected output: (OrderedDict([('PrefixMarital', 'Mr'), ('GivenName', 'George'), ('Nickname', '\"Gob\"'), ('Surname', 'Bluth'), ('SuffixGenerational', 'II')]), 'Person')\n",
    "pp.tag(corp_str) # expected output: (OrderedDict([('CorporationName', 'Sitwell Housing'), ('CorporationLegalType', 'Inc')]), 'Corporation')"
   ]
  },
  {
   "cell_type": "code",
   "execution_count": 34,
   "metadata": {
    "collapsed": true
   },
   "outputs": [],
   "source": [
    "related_sentence = pickle.load( open( \"../data/related_sentences.p\", \"rb\" ) )\n",
    "labels =  pickle.load( open( \"../data/all_label.p\", \"rb\" ) )\n",
    "\n"
   ]
  },
  {
   "cell_type": "code",
   "execution_count": 38,
   "metadata": {
    "collapsed": false
   },
   "outputs": [],
   "source": [
    "family = ['father','mother','aunt','wife','daughter','sibling','twin','family','heir','ancestor',\n",
    "          'brother','uncle','sister','niece','grand','cousin','adopt','relat','nephew','son','child','divorce']\n",
    "friend = ['friend','playmate','widow','frien']\n",
    "romance = ['ex','lover','love','girlfriend','attraction','boyfriend','affair','engage',\n",
    "          'fiance','crush','date','sweet','partner','couple','flirt','marr']\n",
    "enemy = ['enem','victim','traitor','compet','parties','riv','dislike','foe','death','counter',\n",
    "         'murder','accuse','duel','conflicts','hate','foil','opposition','disguise','kill']\n",
    "acquaintance = ['acqua','coworker','student','prof','pup','roommate','school','work','host','housemates','companion',\n",
    "               'neighbor','roomate','wizard','ally','allies','flatmate','mate','group','miss','member','peasant',\n",
    "               'coll','train','comrade','land']\n",
    "service = ['fellow','assist','doctor','detect','devil','master','mistress','slave','rule','henchman',\n",
    "           'employer','serv','lead','law','king','prison',',coach','proph','resear','edit','ward',\n",
    "           'cook','sale','officer','boss','office','lord','emperor','interview','chief','support','advis',\n",
    "          'nurse','man','owner','mentor','benef','manager','ruler','starbuck','super','tetrarch','tour',\n",
    "          'counsel','judge','merchant','employ','flower','general','warder','house','soldier','maid','major','help',\n",
    "           'patient','cook','ward','business','bank','tenant','keeper','captain','tutor','keeper','actor','buy','lend',\n",
    "          'porter','caller','scout','hire','protect','guide','attorney','coach','caretaker','associate','advers',\n",
    "          'interrogator','harpooner','henchman']\n",
    "label_dict = OrderedDict([('enemy',enemy),('romance',romance),('family',family),('friend',friend),\n",
    "                         ('acquaintance',acquaintance),('service',service)])\n",
    "\n",
    "def clean_label(label):\n",
    "    for key,value in label_dict.iteritems():\n",
    "        for v in value:\n",
    "            if re.search(v,label):\n",
    "                return key\n",
    "    return 'ambiguous'\n",
    "\n",
    "def clean_all(label_dict):\n",
    "    for key in label_dict:\n",
    "        for pair in label_dict[key]:\n",
    "            label_dict[key][pair] = clean_label(label_dict[key][pair])\n",
    "    return label_dict"
   ]
  },
  {
   "cell_type": "code",
   "execution_count": 39,
   "metadata": {
    "collapsed": false
   },
   "outputs": [],
   "source": [
    "related_label = clean_all(labels)"
   ]
  },
  {
   "cell_type": "code",
   "execution_count": 45,
   "metadata": {
    "collapsed": false
   },
   "outputs": [
    {
     "data": {
      "text/plain": [
       "{('doctor leete', 'edith leete'): 'family',\n",
       " ('doctor leete', 'mrs. leete'): 'family',\n",
       " ('edith leete', 'edith bartlett'): 'family',\n",
       " ('edith leete', 'mrs. leete'): 'family',\n",
       " ('julian west', 'doctor leete'): 'friend',\n",
       " ('julian west', 'doctor pillsbury'): 'service',\n",
       " ('julian west', 'edith bartlett'): 'romance',\n",
       " ('julian west', 'edith leete'): 'romance',\n",
       " ('julian west', 'sawyer'): 'service',\n",
       " ('mrs. leete', 'edith bartlett'): 'family'}"
      ]
     },
     "execution_count": 45,
     "metadata": {},
     "output_type": "execute_result"
    }
   ],
   "source": [
    "labels['252']"
   ]
  },
  {
   "cell_type": "code",
   "execution_count": 55,
   "metadata": {
    "collapsed": false
   },
   "outputs": [
    {
     "data": {
      "text/plain": [
       "[(u'Julian', u'Leete'),\n",
       " (u'Edith', u'Julian'),\n",
       " (u'Edith Bartlett', u'Julian'),\n",
       " (u'Julian', u'Sawyer')]"
      ]
     },
     "execution_count": 55,
     "metadata": {},
     "output_type": "execute_result"
    }
   ],
   "source": [
    "related_sentence['252'].keys()"
   ]
  },
  {
   "cell_type": "code",
   "execution_count": 56,
   "metadata": {
    "collapsed": false
   },
   "outputs": [
    {
     "data": {
      "text/plain": [
       "[(u\"Over one hundred years later , Julian 's secret chamber is discovered by Doctor Leete , who was preparing the site for the construction of a new laboratory .\",\n",
       "  -1),\n",
       " (u'Doctor Leete revives Julian and takes Julian into Julian home .', -1),\n",
       " (u\"With Doctor Leete 's guidance , Julian comes to understand and appreciate the twentieth-century society .\",\n",
       "  1),\n",
       " (u\"Meanwhile , Julian learns that Doctor Leete 's daughter , Edith is the great-granddaughter of Edith Bartlett .\",\n",
       "  -1)]"
      ]
     },
     "execution_count": 56,
     "metadata": {},
     "output_type": "execute_result"
    }
   ],
   "source": [
    "related_sentence['252'][(u'Julian', u'Leete')]"
   ]
  },
  {
   "cell_type": "code",
   "execution_count": 60,
   "metadata": {
    "collapsed": false
   },
   "outputs": [],
   "source": [
    "def match_pairs_one(sentences,labels):\n",
    "    total = 0\n",
    "    success = 0\n",
    "    for pair in sentences:\n",
    "        total += 1\n",
    "        pair_tmp = (i.lower().strip() for i in pair)\n",
    "        for label_pair in labels:\n",
    "            if pair_tmp == label_pair:\n",
    "                success += 1\n",
    "                sentences[pair] = [sentence[pair],labels[label_pair]]\n",
    "                break\n",
    "    print 'Total:{}, Match:{}'.format(total,success)\n",
    "    return sentences"
   ]
  },
  {
   "cell_type": "code",
   "execution_count": 61,
   "metadata": {
    "collapsed": false
   },
   "outputs": [
    {
     "name": "stdout",
     "output_type": "stream",
     "text": [
      "Total:4, Match:0\n"
     ]
    },
    {
     "data": {
      "text/plain": [
       "defaultdict(list,\n",
       "            {(u'Edith',\n",
       "              u'Julian'): [(u\"Julian and Edith become engaged , much to Doctor Leete 's pleasure .\",\n",
       "               1)],\n",
       "             (u'Edith Bartlett',\n",
       "              u'Julian'): [(u'Julian was engaged to Edith Bartlett , a beautiful , graceful Boston aristocrat .',\n",
       "               1), (u'Julian tries to explain to Julian friends -- Edith Bartlett and Bartlett family -- why their society is so awful and cruel , and how it can be transformed into something much better .',\n",
       "               -1)],\n",
       "             (u'Julian',\n",
       "              u'Leete'): [(u\"Over one hundred years later , Julian 's secret chamber is discovered by Doctor Leete , who was preparing the site for the construction of a new laboratory .\",\n",
       "               -1), (u'Doctor Leete revives Julian and takes Julian into Julian home .',\n",
       "               -1), (u\"With Doctor Leete 's guidance , Julian comes to understand and appreciate the twentieth-century society .\",\n",
       "               1), (u\"Meanwhile , Julian learns that Doctor Leete 's daughter , Edith is the great-granddaughter of Edith Bartlett .\",\n",
       "               -1)],\n",
       "             (u'Julian',\n",
       "              u'Sawyer'): [(u\"Pillsbury trained Julian 's servant , Sawyer , to revive Julian from a mesmerized sleep .\",\n",
       "               -1)]})"
      ]
     },
     "execution_count": 61,
     "metadata": {},
     "output_type": "execute_result"
    }
   ],
   "source": [
    "match_pairs_one(related_sentence['252'],labels['252'])"
   ]
  },
  {
   "cell_type": "code",
   "execution_count": null,
   "metadata": {
    "collapsed": true
   },
   "outputs": [],
   "source": []
  }
 ],
 "metadata": {
  "kernelspec": {
   "display_name": "Python 2",
   "language": "python",
   "name": "python2"
  },
  "language_info": {
   "codemirror_mode": {
    "name": "ipython",
    "version": 2
   },
   "file_extension": ".py",
   "mimetype": "text/x-python",
   "name": "python",
   "nbconvert_exporter": "python",
   "pygments_lexer": "ipython2",
   "version": "2.7.13"
  }
 },
 "nbformat": 4,
 "nbformat_minor": 2
}
