{
 "cells": [
  {
   "cell_type": "code",
   "execution_count": 24,
   "metadata": {
    "collapsed": true
   },
   "outputs": [],
   "source": [
    "import spacy\n",
    "import pandas as pd\n",
    "import numpy as np\n",
    "import json\n",
    "import pickle\n",
    "from collections import OrderedDict\n",
    "import re\n",
    "import spacy\n",
    "nlp = spacy.load('en')\n"
   ]
  },
  {
   "cell_type": "code",
   "execution_count": 3,
   "metadata": {
    "collapsed": true
   },
   "outputs": [],
   "source": [
    "related_sentence = pickle.load( open( \"../data/related_sentences.p\", \"rb\" ) )\n",
    "# labels =  pickle.load( open( \"../data/all_label.p\", \"rb\" ) )\n"
   ]
  },
  {
   "cell_type": "code",
   "execution_count": 7,
   "metadata": {
    "collapsed": true
   },
   "outputs": [],
   "source": [
    "def unpack(lst):\n",
    "    return ' '.join([i[0] for i in lst]), [i[1] for i in lst]"
   ]
  },
  {
   "cell_type": "code",
   "execution_count": 10,
   "metadata": {
    "collapsed": true
   },
   "outputs": [],
   "source": [
    "summary1,sentiment1 = unpack(related_sentence['1'][(u'Julia',u'Winston')])"
   ]
  },
  {
   "cell_type": "code",
   "execution_count": 42,
   "metadata": {
    "collapsed": false
   },
   "outputs": [
    {
     "data": {
      "text/plain": [
       "u\"Winston is sure that they will be caught andpunished sooner or later ( the fatalistic Winston knows that Winston hasbeen doomed since Winston wrote Winston first diary entry-RRB - , while Julia ismore pragmatic and optimistic . As Winston 's affair with Julia progresses , hishatred for the Party grows more and more intense . Torn away from Julia and taken to a place called the Ministryof Love , Winston finds that O'Brien , too , is a Party spy who simply pretendedto be a member of the Brotherhood in order to trap Winston intocommitting an open act of rebellion against the Party . Winston spirit broken , Winston is released to the outside world.He meets Julia but no longer feels anything for Julia .\""
      ]
     },
     "execution_count": 42,
     "metadata": {},
     "output_type": "execute_result"
    }
   ],
   "source": [
    "summary1"
   ]
  },
  {
   "cell_type": "code",
   "execution_count": 43,
   "metadata": {
    "collapsed": false
   },
   "outputs": [],
   "source": [
    "processed_text=nlp(summary1)"
   ]
  },
  {
   "cell_type": "code",
   "execution_count": 44,
   "metadata": {
    "collapsed": false
   },
   "outputs": [
    {
     "data": {
      "text/plain": [
       "[Winston,\n",
       " they,\n",
       " the fatalistic Winston,\n",
       " Winston hasbeen,\n",
       " Winston,\n",
       " Julia,\n",
       " Winston 's affair,\n",
       " Julia,\n",
       " the Party,\n",
       " Julia,\n",
       " a place,\n",
       " Winston,\n",
       " O'Brien,\n",
       " a Party spy,\n",
       " who,\n",
       " a member,\n",
       " the Brotherhood,\n",
       " order,\n",
       " rebellion,\n",
       " the Party,\n",
       " Winston spirit,\n",
       " Winston,\n",
       " the outside world,\n",
       " He,\n",
       " Julia,\n",
       " anything,\n",
       " Julia]"
      ]
     },
     "execution_count": 44,
     "metadata": {},
     "output_type": "execute_result"
    }
   ],
   "source": [
    "list(processed_text.noun_chunks)"
   ]
  },
  {
   "cell_type": "code",
   "execution_count": 47,
   "metadata": {
    "collapsed": false
   },
   "outputs": [
    {
     "name": "stdout",
     "output_type": "stream",
     "text": [
      "[u'fatalistic', u'first', u'sure', u'intense']\n"
     ]
    }
   ],
   "source": [
    "def get_character_adjectives(doc, character_lemma):\n",
    "    \"\"\"\n",
    "    Find all the adjectives related to `character_lemma` in `doc`\n",
    "    \n",
    "    :param doc: Spacy NLP parsed document\n",
    "    :param character_lemma: string object\n",
    "    :return: list of adjectives related to `character_lemma`\n",
    "    \"\"\"\n",
    "    \n",
    "    adjectives = []\n",
    "    for ent in processed_text.ents:\n",
    "        for token in ent.subtree:\n",
    "            if token.pos_ in ['ADJ','VERB']: # Replace with if token.dep_ == 'amod':\n",
    "                adjectives.append(token.lemma_)\n",
    "    \n",
    "    for ent in processed_text.ents:\n",
    "        if ent.root.dep_ == 'nsubj':\n",
    "            for child in ent.root.head.children:\n",
    "                if child.dep_ == 'acomp':\n",
    "                    adjectives.append(child.lemma_)\n",
    "    \n",
    "    return adjectives\n",
    "\n",
    "print(get_character_adjectives(processed_text, 'Winston'))"
   ]
  },
  {
   "cell_type": "code",
   "execution_count": 54,
   "metadata": {
    "collapsed": false
   },
   "outputs": [],
   "source": [
    "a = processed_text.ents[0]"
   ]
  },
  {
   "cell_type": "code",
   "execution_count": 65,
   "metadata": {
    "collapsed": false
   },
   "outputs": [
    {
     "data": {
      "text/plain": [
       "[Winston]"
      ]
     },
     "execution_count": 65,
     "metadata": {},
     "output_type": "execute_result"
    }
   ],
   "source": [
    "list(list(a.subtree)[0].subtree)"
   ]
  },
  {
   "cell_type": "code",
   "execution_count": 78,
   "metadata": {
    "collapsed": false
   },
   "outputs": [],
   "source": [
    "x = list(processed_text)[7]"
   ]
  },
  {
   "cell_type": "code",
   "execution_count": 79,
   "metadata": {
    "collapsed": false
   },
   "outputs": [
    {
     "data": {
      "text/plain": [
       "u'VERB'"
      ]
     },
     "execution_count": 79,
     "metadata": {},
     "output_type": "execute_result"
    }
   ],
   "source": [
    "x.pos_"
   ]
  },
  {
   "cell_type": "code",
   "execution_count": null,
   "metadata": {
    "collapsed": true
   },
   "outputs": [],
   "source": []
  }
 ],
 "metadata": {
  "kernelspec": {
   "display_name": "Python 2",
   "language": "python",
   "name": "python2"
  },
  "language_info": {
   "codemirror_mode": {
    "name": "ipython",
    "version": 2
   },
   "file_extension": ".py",
   "mimetype": "text/x-python",
   "name": "python",
   "nbconvert_exporter": "python",
   "pygments_lexer": "ipython2",
   "version": "2.7.13"
  }
 },
 "nbformat": 4,
 "nbformat_minor": 2
}
